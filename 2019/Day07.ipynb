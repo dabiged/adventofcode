{
 "cells": [
  {
   "cell_type": "markdown",
   "metadata": {},
   "source": [
    "# Day 7: Amplification Circuit"
   ]
  },
  {
   "cell_type": "markdown",
   "metadata": {},
   "source": [
    "## Part 1"
   ]
  },
  {
   "cell_type": "code",
   "execution_count": 6,
   "metadata": {},
   "outputs": [],
   "source": [
    "from os import path\n",
    "import itertools\n",
    "from collections import defaultdict, deque"
   ]
  },
  {
   "cell_type": "code",
   "execution_count": 7,
   "metadata": {},
   "outputs": [],
   "source": [
    "POSITION = 0\n",
    "IMMEDIATE = 1\n",
    "RELATIVE = 2\n",
    "\n",
    "ADD = 1\n",
    "MUL = 2\n",
    "INPUT = 3\n",
    "OUTPUT = 4\n",
    "JUMP_TRUE = 5\n",
    "JUMP_FALSE = 6\n",
    "LESS_THAN = 7\n",
    "EQUALS = 8\n",
    "ADD_RELATIVE_BASE = 9\n",
    "HALT = 99\n",
    "\n",
    "READ = 0\n",
    "WRITE = 1\n",
    "\n",
    "OPS = {\n",
    "    ADD: (READ,READ,WRITE),\n",
    "    MUL: (READ,READ,WRITE),\n",
    "    INPUT: (READ,),\n",
    "    OUTPUT: (WRITE,),\n",
    "    JUMP_TRUE: (READ,READ),\n",
    "    JUMP_FALSE: (READ,READ),\n",
    "    LESS_THAN: (READ,READ,WRITE),\n",
    "    EQUALS: (READ,READ,WRITE),\n",
    "    ADD_RELATIVE_BASE: (READ,),\n",
    "    HALT: ()\n",
    "}"
   ]
  },
  {
   "cell_type": "code",
   "execution_count": 17,
   "metadata": {},
   "outputs": [
    {
     "ename": "NameError",
     "evalue": "name '__file__' is not defined",
     "output_type": "error",
     "traceback": [
      "\u001b[0;31m---------------------------------------------------------------------------\u001b[0m",
      "\u001b[0;31mNameError\u001b[0m                                 Traceback (most recent call last)",
      "\u001b[0;32m<ipython-input-17-cb75d5bd427a>\u001b[0m in \u001b[0;36m<module>\u001b[0;34m\u001b[0m\n\u001b[1;32m    123\u001b[0m \u001b[0;34m\u001b[0m\u001b[0m\n\u001b[1;32m    124\u001b[0m \u001b[0;34m\u001b[0m\u001b[0m\n\u001b[0;32m--> 125\u001b[0;31m \u001b[0;32mwith\u001b[0m \u001b[0mopen\u001b[0m\u001b[0;34m(\u001b[0m\u001b[0mpath\u001b[0m\u001b[0;34m.\u001b[0m\u001b[0mjoin\u001b[0m\u001b[0;34m(\u001b[0m\u001b[0mpath\u001b[0m\u001b[0;34m.\u001b[0m\u001b[0mdirname\u001b[0m\u001b[0;34m(\u001b[0m\u001b[0m__file__\u001b[0m\u001b[0;34m)\u001b[0m\u001b[0;34m,\u001b[0m \u001b[0;34m\"input.txt\"\u001b[0m\u001b[0;34m)\u001b[0m\u001b[0;34m)\u001b[0m \u001b[0;32mas\u001b[0m \u001b[0mf\u001b[0m\u001b[0;34m:\u001b[0m\u001b[0;34m\u001b[0m\u001b[0;34m\u001b[0m\u001b[0m\n\u001b[0m\u001b[1;32m    126\u001b[0m     \u001b[0mcode\u001b[0m \u001b[0;34m=\u001b[0m \u001b[0mlist\u001b[0m\u001b[0;34m(\u001b[0m\u001b[0mmap\u001b[0m\u001b[0;34m(\u001b[0m\u001b[0mint\u001b[0m\u001b[0;34m,\u001b[0m \u001b[0mf\u001b[0m\u001b[0;34m.\u001b[0m\u001b[0mreadline\u001b[0m\u001b[0;34m(\u001b[0m\u001b[0;34m)\u001b[0m\u001b[0;34m.\u001b[0m\u001b[0mstrip\u001b[0m\u001b[0;34m(\u001b[0m\u001b[0;34m)\u001b[0m\u001b[0;34m.\u001b[0m\u001b[0msplit\u001b[0m\u001b[0;34m(\u001b[0m\u001b[0;34m\",\"\u001b[0m\u001b[0;34m)\u001b[0m\u001b[0;34m)\u001b[0m\u001b[0;34m)\u001b[0m\u001b[0;34m\u001b[0m\u001b[0;34m\u001b[0m\u001b[0m\n\u001b[1;32m    127\u001b[0m \u001b[0;34m\u001b[0m\u001b[0m\n",
      "\u001b[0;31mNameError\u001b[0m: name '__file__' is not defined"
     ]
    }
   ],
   "source": [
    "class VM:\n",
    "    def __init__(self,code,inp=None):\n",
    "        self.mem=list(code)\n",
    "        self.inp=deque([] if inp is None else inp)\n",
    "        self.out=[]\n",
    "    \n",
    "    def __getitem__(self,index):\n",
    "        return self.mem[index]\n",
    "    \n",
    "    def __setitem__(self,index,val):\n",
    "        self.mem[index]=val\n",
    "        \n",
    "    def get_args(self, arg_kinds, modes):\n",
    "        args = []*4\n",
    "        \n",
    "        for i, kind in enumerate(arg_kinds):\n",
    "            a = self[self.ip + 1 + i]\n",
    "            mode=modes%10\n",
    "            modes//=10\n",
    "            \n",
    "            if mode == RELATIVE:\n",
    "                a+= self.relative_base\n",
    "                \n",
    "            if mode in (POSITION, RELATIVE):\n",
    "                if a < 0:\n",
    "                    raise Exception(f\"Invalid access to negative memory index {a}\")\n",
    "                elif a>= len(self.mem):\n",
    "                    self.mem += [0] * ( a +1 -len(self.mem))\n",
    "                    \n",
    "                if kind == READ:\n",
    "                    a = self[a]\n",
    "                elif kind != WRITE:\n",
    "                    raise Exception(f\"Invalid arg kind:{kind}\")\n",
    "            elif mode == IMMEDIATE:\n",
    "                if kind == WRITE:\n",
    "                    raise exception(f\"invalid arg mode for write arg: {mode}\")\n",
    "            else:\n",
    "                raise Exception(f\"Invalid mode: {mode}\")\n",
    "            \n",
    "            args[i] = a\n",
    "        return args\n",
    "    \n",
    "    def push_in(self,inp):\n",
    "        self.inp.extend(inp)\n",
    "        \n",
    "    def pop_out(self):\n",
    "        out=self.out\n",
    "        self.out=[]\n",
    "        return out\n",
    "        \n",
    "    def run(self):\n",
    "        self.ip=0\n",
    "        self.relative_base=0\n",
    "        \n",
    "        while self[self.ip] != HALT:\n",
    "            instr = self[self.ip]\n",
    "            op=instr%100\n",
    "            modes=instr//100\n",
    "            \n",
    "            if op not in OPS:\n",
    "                raise Exception(f\"Unknown Opcode: {op}\")\n",
    "                \n",
    "            arg_kinds = OPS[op]\n",
    "            a, b, c, d = self.get_args(arg_kinds, modes)\n",
    "            self.ip += 1+ len(arg_kinds)\n",
    "            \n",
    "            if op == IN:\n",
    "                while not self.inp:\n",
    "                    yield\n",
    "                self[a]=self.inp.popleft()\n",
    "            elif op == OUT:\n",
    "                self.out.append(a)\n",
    "            elif op == ADD:\n",
    "                self[c] = a + b\n",
    "            elif op == MULT:\n",
    "                self[c] = a * b\n",
    "            elif op == LESS_THAN:\n",
    "                self[c] = 1 if a < b else 0\n",
    "            elif op == EQUALS:\n",
    "                self[c] = 1 if a == b else 0\n",
    "            elif op == JUMP_TRUE:\n",
    "                if a != 0:\n",
    "                    self.ip= b\n",
    "            elif op == JUMP_FALSE:\n",
    "                if a == 0:\n",
    "                    self.ip=b\n",
    "            elif op == ADD_RELATIVE_BASE:\n",
    "                self.relative_base += a\n",
    "            else:\n",
    "                raise exception(f\"Unimplemented opcode: {op}\")\n",
    "\n",
    "class Scheduler:\n",
    "    OUT = object()\n",
    "\n",
    "    def __init__(self, vms):\n",
    "        self.vms = vms\n",
    "        self.connections = [[] for _ in vms]\n",
    "        self.waiting = deque(range(len(self.vms)))\n",
    "        self.gens = [vm.run() for vm in self.vms]\n",
    "        self.out = []\n",
    "\n",
    "    def connect(self, start, end):\n",
    "        self.connections[start].append(end)\n",
    "\n",
    "    def run(self):\n",
    "        while self.waiting:\n",
    "            curr = self.waiting.popleft()\n",
    "\n",
    "            try:\n",
    "                next(self.gens[curr])\n",
    "                self.waiting.append(curr)\n",
    "            except StopIteration:\n",
    "                pass\n",
    "\n",
    "            out = self.vms[curr].pop_out()\n",
    "            for conn in self.connections[curr]:\n",
    "                if conn is Scheduler.OUT:\n",
    "                    self.out.extend(out)\n",
    "                else:\n",
    "                    self.vms[conn].push_in(out)\n",
    "\n",
    "        return self.out\n",
    "\n",
    "\n",
    "with open(path.join(path.dirname(__file__), \"input.txt\")) as f:\n",
    "    code = list(map(int, f.readline().strip().split(\",\")))\n",
    "\n",
    "    result = float(\"-inf\")\n",
    "\n",
    "    for perm in itertools.permutations(range(5)):\n",
    "        vms = [VM(code, [p]) for p in perm]\n",
    "        vms[0].push_in([0])\n",
    "\n",
    "        sched = Scheduler(vms)\n",
    "        for i in range(4):\n",
    "            sched.connect(i, i + 1)\n",
    "        sched.connect(4, Scheduler.OUT)\n",
    "\n",
    "        out = sched.run()\n",
    "        result = max(result, out[-1])\n",
    "\n",
    "    print(\"Part 1:\", result)\n",
    "\n",
    "    result = float(\"-inf\")\n",
    "\n",
    "    for perm in itertools.permutations(range(5, 10)):\n",
    "        vms = [VM(code, [p]) for p in perm]\n",
    "        vms[0].push_in([0])\n",
    "\n",
    "        sched = Scheduler(vms)\n",
    "        for i in range(4):\n",
    "            sched.connect(i, i + 1)\n",
    "        sched.connect(4, 0)\n",
    "        sched.connect(4, Scheduler.OUT)\n",
    "\n",
    "        out = sched.run()\n",
    "        result = max(result, out[-1])\n",
    "\n",
    "    print(\"Part 2:\", result)\n"
   ]
  },
  {
   "cell_type": "code",
   "execution_count": 11,
   "metadata": {},
   "outputs": [],
   "source": [
    "VM()"
   ]
  },
  {
   "cell_type": "code",
   "execution_count": 13,
   "metadata": {},
   "outputs": [
    {
     "name": "stdout",
     "output_type": "stream",
     "text": [
      "[None, None, None, None]\n"
     ]
    }
   ],
   "source": [
    "print (a)"
   ]
  },
  {
   "cell_type": "code",
   "execution_count": null,
   "metadata": {},
   "outputs": [],
   "source": []
  },
  {
   "cell_type": "code",
   "execution_count": null,
   "metadata": {},
   "outputs": [],
   "source": []
  },
  {
   "cell_type": "code",
   "execution_count": 1,
   "metadata": {},
   "outputs": [],
   "source": [
    "import doctest\n",
    "import operator"
   ]
  },
  {
   "cell_type": "code",
   "execution_count": 2,
   "metadata": {
    "code_folding": [
     0
    ]
   },
   "outputs": [],
   "source": [
    "def get_opcode(x):\n",
    "    '''\n",
    "    int -> int\n",
    "    \n",
    "    Returns the opcode of an instruction\n",
    "    '''\n",
    "    return x%100"
   ]
  },
  {
   "cell_type": "code",
   "execution_count": 3,
   "metadata": {
    "code_folding": [
     0
    ]
   },
   "outputs": [],
   "source": [
    "def get_posorval(instruction, param, num, myprog):\n",
    "    '''\n",
    "    int, int, int -> int\n",
    "    \n",
    "    instruction: up to 5 char int of 3 parameter or value + 2 digit opcode.\n",
    "    param: Which of the 3 parameters we are calculating on\n",
    "    num: value in the program we are checking\n",
    "    \n",
    "    '''\n",
    "    param=param-1\n",
    "    filled_instruction=str(instruction).zfill(5)\n",
    "    if (filled_instruction[param] == \"0\" ):\n",
    "        return myprog[myprog[num]]\n",
    "    elif (filled_instruction[param] == \"1\" ):\n",
    "        return myprog[num]\n",
    "    else: \n",
    "        return None"
   ]
  },
  {
   "cell_type": "code",
   "execution_count": 4,
   "metadata": {
    "code_folding": [
     45,
     60,
     79,
     95
    ]
   },
   "outputs": [],
   "source": [
    "def opcode(prog, phase, inputval):\n",
    "    '''\n",
    "    list -> list\n",
    "    \n",
    "    A turing tape like computing device\n",
    "    \n",
    "    >>> opcode([1,0,0,0,99])\n",
    "    [2, 0, 0, 0, 99]\n",
    "    >>> opcode([2,3,0,3,99]) \n",
    "    [2, 3, 0, 6, 99]\n",
    "    >>> opcode([2,4,4,5,99,0])\n",
    "    [2, 4, 4, 5, 99, 9801]\n",
    "    >>> opcode([1,1,1,4,99,5,6,0,99])\n",
    "    [30, 1, 1, 4, 2, 5, 6, 0, 99]\n",
    "    >>> opcode([4, 1, 99])\n",
    "    1\n",
    "    [4, 1, 99]\n",
    "    >>> opcode([8,1,1,5,99,-1])\n",
    "    [8, 1, 1, 5, 99, 1]\n",
    "    >>> opcode([8,1,2,5,99,-1])\n",
    "    [8, 1, 2, 5, 99, 0]\n",
    "    >>> opcode([11008,1,1,5,99,-1])\n",
    "    [11008, 1, 1, 1, 99, -1]\n",
    "    >>> opcode([11108,1,2,5,99,-1])\n",
    "    [11108, 1, 2, 0, 99, -1]\n",
    "    '''\n",
    "    i=0\n",
    "    inputnum=0\n",
    "    opcode='00'\n",
    "    while (opcode != 99):\n",
    "        instruction=prog[i]\n",
    "        assignparam=int(str(instruction).zfill(5)[0])\n",
    "        opcode=get_opcode(instruction)\n",
    "        if (opcode == 1):\n",
    "            if (assignparam == 0 ):\n",
    "                prog[prog[i+3]]=get_posorval(instruction, 3, i+1, prog)+get_posorval(instruction, 2, i+2, prog)\n",
    "            elif(assignparam == 1 ):\n",
    "                prog[i+3]=get_posorval(instruction, 3, i+1, prog)+get_posorval(instruction, 2, i+2, prog)\n",
    "            i=i+4\n",
    "        elif (opcode == 2):\n",
    "            if (assignparam == 0 ):\n",
    "                prog[prog[i+3]]=get_posorval(instruction, 3, i+1, prog)*get_posorval(instruction, 2, i+2, prog)\n",
    "            elif(assignparam == 1 ):\n",
    "                prog[i+3]=get_posorval(instruction, 3, i+1, prog)*get_posorval(instruction, 2, i+2, prog)\n",
    "            i=i+4\n",
    "        elif (opcode == 3):\n",
    "        # Opcode 3 takes a single integer as input and saves it to the position given by its only parameter. For example, the instruction 3,50 would take an input value and store it at address 50.\n",
    "            assignparam=(instruction//100)%10\n",
    "            inputnum=inputnum+1\n",
    "            # Disable blocking input for now.\n",
    "            #input_int=int(input())\n",
    "            if (inputnum == 1):\n",
    "                input_int=phase\n",
    "            elif(inputnum ==2 ):\n",
    "                input_int=inputval\n",
    "            if (assignparam == 0 ):\n",
    "                prog[prog[i+1]]=input_int\n",
    "            elif(assignparam == 1 ):\n",
    "                prog[i+1]=input_int\n",
    "            i=i+2\n",
    "        elif (opcode == 4):\n",
    "        # Opcode 4 outputs the value of its only parameter. For example, the instruction 4,50 would output the value at address 50.\n",
    "            assignparam=(instruction//100)%10\n",
    "            if (assignparam == 0 ):\n",
    "                output=prog[prog[i+1]]\n",
    "                \n",
    "            elif(assignparam == 1 ):\n",
    "                output=prog[i+1]\n",
    "            # Disable blocking input for now.\n",
    "\n",
    "            #print(output)\n",
    "            i=i+2\n",
    "        elif (opcode == 5):\n",
    "        # Opcode 5 is jump-if-true: if the first parameter is non-zero, it sets the instruction pointer to the value from the second parameter. Otherwise, it does nothing.\n",
    "            assignparam=(instruction//100)%10\n",
    "            if (get_posorval(instruction, 3, i+1, prog) != 0 ):\n",
    "                i = get_posorval(instruction, 2, i+2, prog)\n",
    "            else:\n",
    "                i=i+3\n",
    "        elif (opcode == 6):\n",
    "        # Opcode 6 is jump-if-false: \n",
    "        # if the first parameter is zero, \n",
    "        #     it sets the instruction pointer to the value from the second parameter. \n",
    "        #     Otherwise, it does nothing.\n",
    "            assignparam=(instruction//100)%10\n",
    "            if (get_posorval(instruction, 3, i+1, prog) == 0 ):\n",
    "                i = get_posorval(instruction, 2, i+2, prog)\n",
    "            else:\n",
    "                i=i+3\n",
    "        elif (opcode == 7):\n",
    "        # Opcode 7 is less than: \n",
    "        # if the first parameter is less than the second parameter, \n",
    "        #     it stores 1 in the position given by the third parameter. \n",
    "        #     Otherwise, it stores 0.\n",
    "            if (get_posorval(instruction, 3, i+1, prog) < get_posorval(instruction, 2, i+2, prog)  ):\n",
    "                if (assignparam == 0 ):\n",
    "                    prog[prog[i+3]]=1\n",
    "                elif(assignparam == 1 ):\n",
    "                    prog[i+3]=1\n",
    "            else:\n",
    "                if (assignparam == 0 ):\n",
    "                    prog[prog[i+3]]=0\n",
    "                elif(assignparam == 1 ):\n",
    "                    prog[i+3]=0\n",
    "            i=i+4\n",
    "        elif (opcode == 8):\n",
    "        # Opcode 8 is equals: \n",
    "        # if the first parameter is equal to the second parameter, \n",
    "        #     it stores 1 in the position given by the third parameter. \n",
    "        #     Otherwise, it stores 0.\n",
    "            if (get_posorval(instruction, 3, i+1, prog) == get_posorval(instruction, 2, i+2, prog)  ):\n",
    "                if (assignparam == 0 ):\n",
    "                    prog[prog[i+3]]=1\n",
    "                elif(assignparam == 1 ):\n",
    "                    prog[i+3]=1\n",
    "            else:\n",
    "                if (assignparam == 0 ):\n",
    "                    prog[prog[i+3]]=0\n",
    "                elif(assignparam == 1 ):\n",
    "                    prog[i+3]=0\n",
    "            i=i+4\n",
    "    return output, prog"
   ]
  },
  {
   "cell_type": "code",
   "execution_count": 5,
   "metadata": {
    "code_folding": [
     0
    ]
   },
   "outputs": [],
   "source": [
    "def guessables(maxnum):\n",
    "    '''creates a list of all 5 digit numbers wherest every\n",
    "    element has no repeating digits inside of that number+\n",
    "    it doesn't count as a 5 digit number if it starts with a 0'''\n",
    "    guesses=[]\n",
    "    for a in range(0,maxnum):\n",
    "        for b in range(0,maxnum):\n",
    "            if a!=b:\n",
    "                for c in range(0,maxnum):\n",
    "                    if b!=c and a!=c:\n",
    "                        for d in range(0,maxnum):\n",
    "                            if c!=d and d!=b and d!=a:\n",
    "                                for e in range(0,maxnum):\n",
    "                                    if c!=e and b!=e and a!=e and d!=e:\n",
    "                                        guesses.append(str(a)+str(b)+str(c)+str(d)+str(e))\n",
    "    return guesses"
   ]
  },
  {
   "cell_type": "code",
   "execution_count": null,
   "metadata": {},
   "outputs": [],
   "source": []
  },
  {
   "cell_type": "code",
   "execution_count": 6,
   "metadata": {
    "code_folding": [
     0
    ]
   },
   "outputs": [],
   "source": [
    "def amp_circ(inputprog):\n",
    "    '''\n",
    "    list - > (str, int)\n",
    "    \n",
    "    Calculate the phase settings that maximise the output of the amplification circuits.\n",
    "    returns phase settings and max value.\n",
    "    \n",
    "    >>> amp_circ([3,15,3,16,1002,16,10,16,1,16,15,15,4,15,99,0,0])\n",
    "    (43210, '43210')\n",
    "    >>> amp_circ([3,23,3,24,1002,24,10,24,1002,23,-1,23,101,5,23,23,1,24,23,23,4,23,99,0,0])\n",
    "    (54321, '01234')\n",
    "    >>> amp_circ([3,31,3,32,1002,32,10,32,1001,31,-2,31,1007,31,0,33,1002,33,7,33,1,33,31,31,1,32,31,31,4,31,99,0,0,0])\n",
    "    (65210, '10432')\n",
    "    '''\n",
    "    #43210\n",
    "    results={}\n",
    "    for num in guessables(5):\n",
    "        count=0\n",
    "        x=0\n",
    "        for i in num:\n",
    "            i=int(i)\n",
    "            (x,oldprog)=opcode(inputprog,i,x)\n",
    "        results[num]=x\n",
    "    maxkey=max(results.items(), key=operator.itemgetter(1))[0]\n",
    "\n",
    "    return int(results[maxkey]), maxkey \n",
    "        "
   ]
  },
  {
   "cell_type": "code",
   "execution_count": 7,
   "metadata": {},
   "outputs": [
    {
     "data": {
      "text/plain": [
       "(43210, '43210')"
      ]
     },
     "execution_count": 7,
     "metadata": {},
     "output_type": "execute_result"
    }
   ],
   "source": [
    "inputprog=[3,15,3,16,1002,16,10,16,1,16,15,15,4,15,99,0,0]\n",
    "amp_circ(inputprog)"
   ]
  },
  {
   "cell_type": "code",
   "execution_count": 8,
   "metadata": {},
   "outputs": [
    {
     "data": {
      "text/plain": [
       "(65210, '10432')"
      ]
     },
     "execution_count": 8,
     "metadata": {},
     "output_type": "execute_result"
    }
   ],
   "source": [
    "amp_circ([3,31,3,32,1002,32,10,32,1001,31,-2,31,1007,31,0,33,1002,33,7,33,1,33,31,31,1,32,31,31,4,31,99,0,0,0])"
   ]
  },
  {
   "cell_type": "code",
   "execution_count": 9,
   "metadata": {},
   "outputs": [
    {
     "data": {
      "text/plain": [
       "(43210, '43210')"
      ]
     },
     "execution_count": 9,
     "metadata": {},
     "output_type": "execute_result"
    }
   ],
   "source": [
    "amp_circ([3,15,3,16,1002,16,10,16,1,16,15,15,4,15,99,0,0])"
   ]
  },
  {
   "cell_type": "code",
   "execution_count": 10,
   "metadata": {},
   "outputs": [
    {
     "data": {
      "text/plain": [
       "(18812, '23041')"
      ]
     },
     "execution_count": 10,
     "metadata": {},
     "output_type": "execute_result"
    }
   ],
   "source": [
    "amp_circ([3,8,1001,8,10,8,105,1,0,0,21,42,51,60,77,94,175,256,337,418,99999,3,9,1001,9,4,9,102,5,9,9,1001,9,3,9,102,5,9,9,4,9,99,3,9,102,2,9,9,4,9,99,3,9,1001,9,3,9,4,9,99,3,9,101,4,9,9,1002,9,4,9,101,5,9,9,4,9,99,3,9,1002,9,5,9,101,3,9,9,102,2,9,9,4,9,99,3,9,1001,9,1,9,4,9,3,9,1002,9,2,9,4,9,3,9,102,2,9,9,4,9,3,9,102,2,9,9,4,9,3,9,102,2,9,9,4,9,3,9,101,2,9,9,4,9,3,9,101,2,9,9,4,9,3,9,101,2,9,9,4,9,3,9,1001,9,1,9,4,9,3,9,101,1,9,9,4,9,99,3,9,1001,9,2,9,4,9,3,9,101,1,9,9,4,9,3,9,102,2,9,9,4,9,3,9,1001,9,1,9,4,9,3,9,101,2,9,9,4,9,3,9,1002,9,2,9,4,9,3,9,1001,9,1,9,4,9,3,9,101,1,9,9,4,9,3,9,1001,9,2,9,4,9,3,9,1002,9,2,9,4,9,99,3,9,101,2,9,9,4,9,3,9,102,2,9,9,4,9,3,9,101,2,9,9,4,9,3,9,102,2,9,9,4,9,3,9,1002,9,2,9,4,9,3,9,102,2,9,9,4,9,3,9,102,2,9,9,4,9,3,9,101,2,9,9,4,9,3,9,1001,9,2,9,4,9,3,9,101,2,9,9,4,9,99,3,9,101,2,9,9,4,9,3,9,1002,9,2,9,4,9,3,9,1001,9,1,9,4,9,3,9,101,1,9,9,4,9,3,9,1001,9,1,9,4,9,3,9,1002,9,2,9,4,9,3,9,1002,9,2,9,4,9,3,9,101,1,9,9,4,9,3,9,102,2,9,9,4,9,3,9,101,2,9,9,4,9,99,3,9,1001,9,2,9,4,9,3,9,101,2,9,9,4,9,3,9,1002,9,2,9,4,9,3,9,101,2,9,9,4,9,3,9,101,2,9,9,4,9,3,9,102,2,9,9,4,9,3,9,1002,9,2,9,4,9,3,9,102,2,9,9,4,9,3,9,1002,9,2,9,4,9,3,9,101,1,9,9,4,9,99])"
   ]
  },
  {
   "cell_type": "markdown",
   "metadata": {},
   "source": [
    "## Part Two\n"
   ]
  },
  {
   "cell_type": "code",
   "execution_count": 11,
   "metadata": {
    "code_folding": [
     0
    ]
   },
   "outputs": [],
   "source": [
    "def guessables(minnum, maxnum):\n",
    "    '''creates a list of all 5 digit numbers wherest every\n",
    "    element has no repeating digits inside of that number+\n",
    "    it doesn't count as a 5 digit number if it starts with a 0'''\n",
    "    guesses=[]\n",
    "    maxnum=maxnum+1\n",
    "    for a in range(minnum,maxnum):\n",
    "        for b in range(minnum,maxnum):\n",
    "            if a!=b:\n",
    "                for c in range(minnum,maxnum):\n",
    "                    if b!=c and a!=c:\n",
    "                        for d in range(minnum,maxnum):\n",
    "                            if c!=d and d!=b and d!=a:\n",
    "                                for e in range(minnum,maxnum):\n",
    "                                    if c!=e and b!=e and a!=e and d!=e:\n",
    "                                        guesses.append(str(a)+str(b)+str(c)+str(d)+str(e))\n",
    "    return guesses"
   ]
  },
  {
   "cell_type": "code",
   "execution_count": 72,
   "metadata": {
    "code_folding": []
   },
   "outputs": [],
   "source": [
    "def opcode(prog, phase, inputval, i=0):\n",
    "    '''\n",
    "    list -> list\n",
    "    \n",
    "    A turing tape like computing device\n",
    "    \n",
    "    >>> opcode([1,0,0,0,99])\n",
    "    [2, 0, 0, 0, 99]\n",
    "    >>> opcode([2,3,0,3,99]) \n",
    "    [2, 3, 0, 6, 99]\n",
    "    >>> opcode([2,4,4,5,99,0])\n",
    "    [2, 4, 4, 5, 99, 9801]\n",
    "    >>> opcode([1,1,1,4,99,5,6,0,99])\n",
    "    [30, 1, 1, 4, 2, 5, 6, 0, 99]\n",
    "    >>> opcode([4, 1, 99])\n",
    "    1\n",
    "    [4, 1, 99]\n",
    "    >>> opcode([8,1,1,5,99,-1])\n",
    "    [8, 1, 1, 5, 99, 1]\n",
    "    >>> opcode([8,1,2,5,99,-1])\n",
    "    [8, 1, 2, 5, 99, 0]\n",
    "    >>> opcode([11008,1,1,5,99,-1])\n",
    "    [11008, 1, 1, 1, 99, -1]\n",
    "    >>> opcode([11108,1,2,5,99,-1])\n",
    "    [11108, 1, 2, 0, 99, -1]\n",
    "    '''\n",
    "    inputnum=0\n",
    "    opcode='00'\n",
    "    while (opcode != 99):\n",
    "        instruction=prog[i]\n",
    "        assignparam=int(str(instruction).zfill(5)[0])\n",
    "        opcode=get_opcode(instruction)\n",
    "        if (opcode == 1):\n",
    "            if (assignparam == 0 ):\n",
    "                prog[prog[i+3]]=get_posorval(instruction, 3, i+1, prog)+get_posorval(instruction, 2, i+2, prog)\n",
    "            elif(assignparam == 1 ):\n",
    "                prog[i+3]=get_posorval(instruction, 3, i+1, prog)+get_posorval(instruction, 2, i+2, prog)\n",
    "            i=i+4\n",
    "        elif (opcode == 2):\n",
    "            if (assignparam == 0 ):\n",
    "                prog[prog[i+3]]=get_posorval(instruction, 3, i+1, prog)*get_posorval(instruction, 2, i+2, prog)\n",
    "            elif(assignparam == 1 ):\n",
    "                prog[i+3]=get_posorval(instruction, 3, i+1, prog)*get_posorval(instruction, 2, i+2, prog)\n",
    "            i=i+4\n",
    "        elif (opcode == 3):\n",
    "        # Opcode 3 takes a single integer as input and saves it to the position given by its only parameter. \n",
    "        # For example, the instruction 3,50 would take an input value and store it at address 50.\n",
    "            assignparam=(instruction//100)%10\n",
    "            inputnum=inputnum+1\n",
    "            # Disable blocking input for now.\n",
    "            #input_int=int(input())\n",
    "            if (inputnum == 1):\n",
    "                input_int=phase\n",
    "            elif(inputnum ==2 ):\n",
    "                input_int=inputval\n",
    "            if (assignparam == 0 ):\n",
    "                prog[prog[i+1]]=input_int\n",
    "            elif(assignparam == 1 ):\n",
    "                prog[i+1]=input_int\n",
    "            i=i+2\n",
    "        elif (opcode == 4):\n",
    "        # Opcode 4 outputs the value of its only parameter. \n",
    "        # For example, the instruction 4,50 would output the value at address 50.\n",
    "            assignparam=(instruction//100)%10\n",
    "            if (assignparam == 0 ):\n",
    "                output=prog[prog[i+1]]\n",
    "                \n",
    "            elif(assignparam == 1 ):\n",
    "                output=prog[i+1]\n",
    "            # Disable blocking input for now.\n",
    "\n",
    "            #print(output)\n",
    "            i=i+2\n",
    "        elif (opcode == 5):\n",
    "        # Opcode 5 is jump-if-true: if the first parameter is non-zero, it sets the instruction pointer to the value from the second parameter. Otherwise, it does nothing.\n",
    "            assignparam=(instruction//100)%10\n",
    "            if (get_posorval(instruction, 3, i+1, prog) != 0 ):\n",
    "                i = get_posorval(instruction, 2, i+2, prog)\n",
    "            else:\n",
    "                i=i+3\n",
    "        elif (opcode == 6):\n",
    "        # Opcode 6 is jump-if-false: \n",
    "        # if the first parameter is zero, \n",
    "        #     it sets the instruction pointer to the value from the second parameter. \n",
    "        #     Otherwise, it does nothing.\n",
    "            assignparam=(instruction//100)%10\n",
    "            if (get_posorval(instruction, 3, i+1, prog) == 0 ):\n",
    "                i = get_posorval(instruction, 2, i+2, prog)\n",
    "            else:\n",
    "                i=i+3\n",
    "        elif (opcode == 7):\n",
    "        # Opcode 7 is less than: \n",
    "        # if the first parameter is less than the second parameter, \n",
    "        #     it stores 1 in the position given by the third parameter. \n",
    "        #     Otherwise, it stores 0.\n",
    "            if (get_posorval(instruction, 3, i+1, prog) < get_posorval(instruction, 2, i+2, prog)  ):\n",
    "                if (assignparam == 0 ):\n",
    "                    prog[prog[i+3]]=1\n",
    "                elif(assignparam == 1 ):\n",
    "                    prog[i+3]=1\n",
    "            else:\n",
    "                if (assignparam == 0 ):\n",
    "                    prog[prog[i+3]]=0\n",
    "                elif(assignparam == 1 ):\n",
    "                    prog[i+3]=0\n",
    "            i=i+4\n",
    "        elif (opcode == 8):\n",
    "        # Opcode 8 is equals: \n",
    "        # if the first parameter is equal to the second parameter, \n",
    "        #     it stores 1 in the position given by the third parameter. \n",
    "        #     Otherwise, it stores 0.\n",
    "            if (get_posorval(instruction, 3, i+1, prog) == get_posorval(instruction, 2, i+2, prog)  ):\n",
    "                if (assignparam == 0 ):\n",
    "                    prog[prog[i+3]]=1\n",
    "                elif(assignparam == 1 ):\n",
    "                    prog[i+3]=1\n",
    "            else:\n",
    "                if (assignparam == 0 ):\n",
    "                    prog[prog[i+3]]=0\n",
    "                elif(assignparam == 1 ):\n",
    "                    prog[i+3]=0\n",
    "            i=i+4\n",
    "    if (opcode == 99 ):     \n",
    "        return output, prog, i\n",
    "    else:\n",
    "        print (\"ERROR: No exit code detected\")\n",
    "        return None"
   ]
  },
  {
   "cell_type": "code",
   "execution_count": 13,
   "metadata": {
    "code_folding": [
     0
    ]
   },
   "outputs": [],
   "source": [
    "def recurs_amp_circ(inputprog):\n",
    "    '''\n",
    "    list - > (str, int)\n",
    "    \n",
    "    Calculate the phase settings that maximise the output of the amplification circuits.\n",
    "    returns phase settings and max value.\n",
    "    \n",
    "    >>> recurs_amp_circ([3,26,1001,26,-4,26,3,27,1002,27,2,27,1,27,26,27,4,27,1001,28,-1,28,1005,28,6,99,0,0,5])\n",
    "    (139629729, '98765')\n",
    "    >>> recurs_amp_circ([3,52,1001,52,-5,52,3,53,1,52,56,54,1007,54,5,55,1005,55,26,1001,54,-5,54,1105,1,12,1,53,54,53,1008,54,0,55,1001,55,1,55,2,53,55,53,4,53,1001,56,-1,56,1005,56,6,99,0,0,0,0,10])\n",
    "    (18216, '97856')\n",
    "\n",
    "    '''\n",
    "    inputprog0=inputprog[:]\n",
    "    inputprog1=inputprog[:]\n",
    "    inputprog2=inputprog[:]\n",
    "    inputprog3=inputprog[:]\n",
    "    inputprog4=inputprog[:]\n",
    "    #43210\n",
    "    results={}\n",
    "    for num in guessables(5,9):\n",
    "        count=0\n",
    "        x=0\n",
    "        ans=-1\n",
    "        for i in num:\n",
    "            i=int(i)\n",
    "            (x,oldprog)=opcode(inputprog3,i,x)\n",
    "        results[num]=x\n",
    "    maxkey=max(results.items(), key=operator.itemgetter(1))[0]\n",
    "\n",
    "    return int(results[maxkey]), maxkey , results\n",
    "        "
   ]
  },
  {
   "cell_type": "code",
   "execution_count": 16,
   "metadata": {
    "code_folding": [
     0
    ]
   },
   "outputs": [],
   "source": [
    "def recurs_amp_circ(inputprog):\n",
    "    '''\n",
    "    list - > (str, int)\n",
    "    \n",
    "    Calculate the phase settings that maximise the output of the amplification circuits.\n",
    "    returns phase settings and max value.\n",
    "    \n",
    "    >>> recurs_amp_circ([3,26,1001,26,-4,26,3,27,1002,27,2,27,1,27,26,27,4,27,1001,28,-1,28,1005,28,6,99,0,0,5])\n",
    "    (139629729, '98765')\n",
    "    >>> recurs_amp_circ([3,52,1001,52,-5,52,3,53,1,52,56,54,1007,54,5,55,1005,55,26,1001,54,-5,54,1105,1,12,1,53,54,53,1008,54,0,55,1001,55,1,55,2,53,55,53,4,53,1001,56,-1,56,1005,56,6,99,0,0,0,0,10])\n",
    "    (18216, '97856')\n",
    "\n",
    "    '''\n",
    "    #43210\n",
    "    orig_prog=inputprog[:]\n",
    "    results={}\n",
    "    num=str(98765)\n",
    "    count=0\n",
    "    x=0\n",
    "    ans=-1\n",
    "\n",
    "    (x,oldprog0,pos0)=opcode(inputprog0,i,x) \n",
    "    (x,oldprog1,pos1)=opcode(inputprog0,i,x)  \n",
    "    (x,oldprog2,pos2)=opcode(inputprog0,i,x)  \n",
    "    (x,oldprog3,pos3)=opcode(inputprog0,i,x)  \n",
    "    (x,oldprog4,pos4)=opcode(inputprog0,i,x) \n",
    "    \n",
    "    (x,oldprog0,pos0)=opcode(inputprog0,i,x)  \n",
    "    (x,oldprog0,pos0)=opcode(inputprog0,i,x)  \n",
    "    (x,oldprog0,pos0)=opcode(inputprog0,i,x)  \n",
    "    (x,oldprog0,pos0)=opcode(inputprog0,i,x)  \n",
    "\n",
    "            \n",
    "            \n",
    "            \n",
    "            \n",
    "            \n",
    "    results[num]=x\n",
    "    maxkey=max(results.items(), key=operator.itemgetter(1))[0]\n",
    "    return int(results[maxkey]), maxkey "
   ]
  },
  {
   "cell_type": "code",
   "execution_count": 74,
   "metadata": {},
   "outputs": [
    {
     "name": "stdout",
     "output_type": "stream",
     "text": [
      "[3, 26, 1001, 26, -4, 26, 3, 27, 1002, 27, 2, 27, 1, 27, 26, 27, 4, 27, 1001, 28, -1, 28, 1005, 28, 6, 99, 0, 0, 5]\n",
      "[3, 26, 1001, 26, -4, 26, 3, 27, 1002, 27, 2, 27, 1, 27, 26, 27, 4, 27, 1001, 28, -1, 28, 1005, 28, 6, 99, 5, 5, 0]\n",
      "[3, 26, 1001, 26, -4, 26, 3, 27, 1002, 27, 2, 27, 1, 27, 26, 27, 4, 27, 1001, 28, -1, 28, 1005, 28, 6, 99, 5, 5, 0] 9 129 25\n"
     ]
    },
    {
     "ename": "UnboundLocalError",
     "evalue": "local variable 'output' referenced before assignment",
     "output_type": "error",
     "traceback": [
      "\u001b[0;31m---------------------------------------------------------------------------\u001b[0m",
      "\u001b[0;31mUnboundLocalError\u001b[0m                         Traceback (most recent call last)",
      "\u001b[0;32m<ipython-input-74-85fec8f2cc34>\u001b[0m in \u001b[0;36m<module>\u001b[0;34m\u001b[0m\n\u001b[1;32m     20\u001b[0m \u001b[0;34m(\u001b[0m\u001b[0mx\u001b[0m\u001b[0;34m,\u001b[0m \u001b[0mprog4\u001b[0m\u001b[0;34m,\u001b[0m \u001b[0mi4\u001b[0m\u001b[0;34m)\u001b[0m \u001b[0;34m=\u001b[0m \u001b[0mopcode\u001b[0m\u001b[0;34m(\u001b[0m\u001b[0mprog4\u001b[0m\u001b[0;34m,\u001b[0m\u001b[0mint\u001b[0m\u001b[0;34m(\u001b[0m\u001b[0mnum\u001b[0m\u001b[0;34m[\u001b[0m\u001b[0;36m4\u001b[0m\u001b[0;34m]\u001b[0m\u001b[0;34m)\u001b[0m\u001b[0;34m,\u001b[0m\u001b[0mx\u001b[0m\u001b[0;34m)\u001b[0m\u001b[0;34m\u001b[0m\u001b[0;34m\u001b[0m\u001b[0m\n\u001b[1;32m     21\u001b[0m \u001b[0mprint\u001b[0m \u001b[0;34m(\u001b[0m\u001b[0mprog0\u001b[0m\u001b[0;34m,\u001b[0m\u001b[0mint\u001b[0m\u001b[0;34m(\u001b[0m\u001b[0mnum\u001b[0m\u001b[0;34m[\u001b[0m\u001b[0;36m0\u001b[0m\u001b[0;34m]\u001b[0m\u001b[0;34m)\u001b[0m\u001b[0;34m,\u001b[0m\u001b[0mx\u001b[0m\u001b[0;34m,\u001b[0m\u001b[0mi0\u001b[0m\u001b[0;34m)\u001b[0m\u001b[0;34m\u001b[0m\u001b[0;34m\u001b[0m\u001b[0m\n\u001b[0;32m---> 22\u001b[0;31m \u001b[0;34m(\u001b[0m\u001b[0mx\u001b[0m\u001b[0;34m,\u001b[0m \u001b[0mprog0\u001b[0m\u001b[0;34m,\u001b[0m \u001b[0mi5\u001b[0m\u001b[0;34m)\u001b[0m \u001b[0;34m=\u001b[0m \u001b[0mopcode\u001b[0m\u001b[0;34m(\u001b[0m\u001b[0mprog0\u001b[0m\u001b[0;34m,\u001b[0m\u001b[0mint\u001b[0m\u001b[0;34m(\u001b[0m\u001b[0mnum\u001b[0m\u001b[0;34m[\u001b[0m\u001b[0;36m0\u001b[0m\u001b[0;34m]\u001b[0m\u001b[0;34m)\u001b[0m\u001b[0;34m,\u001b[0m\u001b[0mx\u001b[0m\u001b[0;34m,\u001b[0m\u001b[0mi0\u001b[0m\u001b[0;34m)\u001b[0m\u001b[0;34m\u001b[0m\u001b[0;34m\u001b[0m\u001b[0m\n\u001b[0m\u001b[1;32m     23\u001b[0m \u001b[0;34m(\u001b[0m\u001b[0mx\u001b[0m\u001b[0;34m,\u001b[0m \u001b[0mprog1\u001b[0m\u001b[0;34m,\u001b[0m \u001b[0mi6\u001b[0m\u001b[0;34m)\u001b[0m \u001b[0;34m=\u001b[0m \u001b[0mopcode\u001b[0m\u001b[0;34m(\u001b[0m\u001b[0mprog1\u001b[0m\u001b[0;34m,\u001b[0m\u001b[0mint\u001b[0m\u001b[0;34m(\u001b[0m\u001b[0mnum\u001b[0m\u001b[0;34m[\u001b[0m\u001b[0;36m1\u001b[0m\u001b[0;34m]\u001b[0m\u001b[0;34m)\u001b[0m\u001b[0;34m,\u001b[0m\u001b[0mx\u001b[0m\u001b[0;34m,\u001b[0m\u001b[0mi1\u001b[0m\u001b[0;34m)\u001b[0m\u001b[0;34m\u001b[0m\u001b[0;34m\u001b[0m\u001b[0m\n\u001b[1;32m     24\u001b[0m \u001b[0;34m(\u001b[0m\u001b[0mx\u001b[0m\u001b[0;34m,\u001b[0m \u001b[0mprog2\u001b[0m\u001b[0;34m,\u001b[0m \u001b[0mi7\u001b[0m\u001b[0;34m)\u001b[0m \u001b[0;34m=\u001b[0m \u001b[0mopcode\u001b[0m\u001b[0;34m(\u001b[0m\u001b[0mprog2\u001b[0m\u001b[0;34m,\u001b[0m\u001b[0mint\u001b[0m\u001b[0;34m(\u001b[0m\u001b[0mnum\u001b[0m\u001b[0;34m[\u001b[0m\u001b[0;36m2\u001b[0m\u001b[0;34m]\u001b[0m\u001b[0;34m)\u001b[0m\u001b[0;34m,\u001b[0m\u001b[0mx\u001b[0m\u001b[0;34m,\u001b[0m\u001b[0mi2\u001b[0m\u001b[0;34m)\u001b[0m\u001b[0;34m\u001b[0m\u001b[0;34m\u001b[0m\u001b[0m\n",
      "\u001b[0;32m<ipython-input-72-b973ee7ca464>\u001b[0m in \u001b[0;36mopcode\u001b[0;34m(prog, phase, inputval, i)\u001b[0m\n\u001b[1;32m    122\u001b[0m             \u001b[0mi\u001b[0m\u001b[0;34m=\u001b[0m\u001b[0mi\u001b[0m\u001b[0;34m+\u001b[0m\u001b[0;36m4\u001b[0m\u001b[0;34m\u001b[0m\u001b[0;34m\u001b[0m\u001b[0m\n\u001b[1;32m    123\u001b[0m     \u001b[0;32mif\u001b[0m \u001b[0;34m(\u001b[0m\u001b[0mopcode\u001b[0m \u001b[0;34m==\u001b[0m \u001b[0;36m99\u001b[0m \u001b[0;34m)\u001b[0m\u001b[0;34m:\u001b[0m\u001b[0;34m\u001b[0m\u001b[0;34m\u001b[0m\u001b[0m\n\u001b[0;32m--> 124\u001b[0;31m         \u001b[0;32mreturn\u001b[0m \u001b[0moutput\u001b[0m\u001b[0;34m,\u001b[0m \u001b[0mprog\u001b[0m\u001b[0;34m,\u001b[0m \u001b[0mi\u001b[0m\u001b[0;34m\u001b[0m\u001b[0;34m\u001b[0m\u001b[0m\n\u001b[0m\u001b[1;32m    125\u001b[0m     \u001b[0;32melse\u001b[0m\u001b[0;34m:\u001b[0m\u001b[0;34m\u001b[0m\u001b[0;34m\u001b[0m\u001b[0m\n\u001b[1;32m    126\u001b[0m         \u001b[0mprint\u001b[0m \u001b[0;34m(\u001b[0m\u001b[0;34m\"ERROR: No exit code detected\"\u001b[0m\u001b[0;34m)\u001b[0m\u001b[0;34m\u001b[0m\u001b[0;34m\u001b[0m\u001b[0m\n",
      "\u001b[0;31mUnboundLocalError\u001b[0m: local variable 'output' referenced before assignment"
     ]
    }
   ],
   "source": [
    "inputprog=[3,26,1001,26,-4,26,3,27,1002,27,2,27,1,27,26,27,4,27,1001,28,-1,28,1005,28,6,99,0,0,5]\n",
    "prog0=inputprog[:]\n",
    "prog1=inputprog[:]\n",
    "prog2=inputprog[:]\n",
    "prog3=inputprog[:]\n",
    "prog4=inputprog[:]\n",
    "\n",
    "results={}\n",
    "num=str(98765)\n",
    "count=0\n",
    "x=0\n",
    "ans=-1\n",
    "amp=0\n",
    "print (prog0)\n",
    "(x, prog0, i0) = opcode(prog0,int(num[0]),x)\n",
    "print (prog0)\n",
    "(x, prog1, i1) = opcode(prog1,int(num[1]),x)\n",
    "(x, prog2, i2) = opcode(prog2,int(num[2]),x)\n",
    "(x, prog3, i3) = opcode(prog3,int(num[3]),x)\n",
    "(x, prog4, i4) = opcode(prog4,int(num[4]),x)\n",
    "print (prog0,int(num[0]),x,i0)\n",
    "(x, prog0, i5) = opcode(prog0,int(num[0]),x,i0)\n",
    "(x, prog1, i6) = opcode(prog1,int(num[1]),x,i1)\n",
    "(x, prog2, i7) = opcode(prog2,int(num[2]),x,i2)\n"
   ]
  },
  {
   "cell_type": "code",
   "execution_count": null,
   "metadata": {},
   "outputs": [],
   "source": [
    "type(x)"
   ]
  },
  {
   "cell_type": "code",
   "execution_count": 18,
   "metadata": {},
   "outputs": [
    {
     "ename": "NameError",
     "evalue": "name 'inputprog0' is not defined",
     "output_type": "error",
     "traceback": [
      "\u001b[0;31m---------------------------------------------------------------------------\u001b[0m",
      "\u001b[0;31mNameError\u001b[0m                                 Traceback (most recent call last)",
      "\u001b[0;32m<ipython-input-18-5bbae5f79940>\u001b[0m in \u001b[0;36m<module>\u001b[0;34m\u001b[0m\n\u001b[0;32m----> 1\u001b[0;31m \u001b[0ma\u001b[0m \u001b[0;34m=\u001b[0m \u001b[0mrecurs_amp_circ\u001b[0m\u001b[0;34m(\u001b[0m\u001b[0;34m[\u001b[0m\u001b[0;36m3\u001b[0m\u001b[0;34m,\u001b[0m\u001b[0;36m26\u001b[0m\u001b[0;34m,\u001b[0m\u001b[0;36m1001\u001b[0m\u001b[0;34m,\u001b[0m\u001b[0;36m26\u001b[0m\u001b[0;34m,\u001b[0m\u001b[0;34m-\u001b[0m\u001b[0;36m4\u001b[0m\u001b[0;34m,\u001b[0m\u001b[0;36m26\u001b[0m\u001b[0;34m,\u001b[0m\u001b[0;36m3\u001b[0m\u001b[0;34m,\u001b[0m\u001b[0;36m27\u001b[0m\u001b[0;34m,\u001b[0m\u001b[0;36m1002\u001b[0m\u001b[0;34m,\u001b[0m\u001b[0;36m27\u001b[0m\u001b[0;34m,\u001b[0m\u001b[0;36m2\u001b[0m\u001b[0;34m,\u001b[0m\u001b[0;36m27\u001b[0m\u001b[0;34m,\u001b[0m\u001b[0;36m1\u001b[0m\u001b[0;34m,\u001b[0m\u001b[0;36m27\u001b[0m\u001b[0;34m,\u001b[0m\u001b[0;36m26\u001b[0m\u001b[0;34m,\u001b[0m\u001b[0;36m27\u001b[0m\u001b[0;34m,\u001b[0m\u001b[0;36m4\u001b[0m\u001b[0;34m,\u001b[0m\u001b[0;36m27\u001b[0m\u001b[0;34m,\u001b[0m\u001b[0;36m1001\u001b[0m\u001b[0;34m,\u001b[0m\u001b[0;36m28\u001b[0m\u001b[0;34m,\u001b[0m\u001b[0;34m-\u001b[0m\u001b[0;36m1\u001b[0m\u001b[0;34m,\u001b[0m\u001b[0;36m28\u001b[0m\u001b[0;34m,\u001b[0m\u001b[0;36m1005\u001b[0m\u001b[0;34m,\u001b[0m\u001b[0;36m28\u001b[0m\u001b[0;34m,\u001b[0m\u001b[0;36m6\u001b[0m\u001b[0;34m,\u001b[0m\u001b[0;36m99\u001b[0m\u001b[0;34m,\u001b[0m\u001b[0;36m0\u001b[0m\u001b[0;34m,\u001b[0m\u001b[0;36m0\u001b[0m\u001b[0;34m,\u001b[0m\u001b[0;36m5\u001b[0m\u001b[0;34m]\u001b[0m\u001b[0;34m)\u001b[0m\u001b[0;34m\u001b[0m\u001b[0;34m\u001b[0m\u001b[0m\n\u001b[0m",
      "\u001b[0;32m<ipython-input-16-5f148b6b0365>\u001b[0m in \u001b[0;36mrecurs_amp_circ\u001b[0;34m(inputprog)\u001b[0m\n\u001b[1;32m     20\u001b[0m     \u001b[0mans\u001b[0m\u001b[0;34m=\u001b[0m\u001b[0;34m-\u001b[0m\u001b[0;36m1\u001b[0m\u001b[0;34m\u001b[0m\u001b[0;34m\u001b[0m\u001b[0m\n\u001b[1;32m     21\u001b[0m \u001b[0;34m\u001b[0m\u001b[0m\n\u001b[0;32m---> 22\u001b[0;31m     \u001b[0;34m(\u001b[0m\u001b[0mx\u001b[0m\u001b[0;34m,\u001b[0m\u001b[0moldprog0\u001b[0m\u001b[0;34m,\u001b[0m\u001b[0mpos0\u001b[0m\u001b[0;34m)\u001b[0m\u001b[0;34m=\u001b[0m\u001b[0mopcode\u001b[0m\u001b[0;34m(\u001b[0m\u001b[0minputprog0\u001b[0m\u001b[0;34m,\u001b[0m\u001b[0mi\u001b[0m\u001b[0;34m,\u001b[0m\u001b[0mx\u001b[0m\u001b[0;34m)\u001b[0m\u001b[0;34m\u001b[0m\u001b[0;34m\u001b[0m\u001b[0m\n\u001b[0m\u001b[1;32m     23\u001b[0m     \u001b[0;34m(\u001b[0m\u001b[0mx\u001b[0m\u001b[0;34m,\u001b[0m\u001b[0moldprog1\u001b[0m\u001b[0;34m,\u001b[0m\u001b[0mpos1\u001b[0m\u001b[0;34m)\u001b[0m\u001b[0;34m=\u001b[0m\u001b[0mopcode\u001b[0m\u001b[0;34m(\u001b[0m\u001b[0minputprog0\u001b[0m\u001b[0;34m,\u001b[0m\u001b[0mi\u001b[0m\u001b[0;34m,\u001b[0m\u001b[0mx\u001b[0m\u001b[0;34m)\u001b[0m\u001b[0;34m\u001b[0m\u001b[0;34m\u001b[0m\u001b[0m\n\u001b[1;32m     24\u001b[0m     \u001b[0;34m(\u001b[0m\u001b[0mx\u001b[0m\u001b[0;34m,\u001b[0m\u001b[0moldprog2\u001b[0m\u001b[0;34m,\u001b[0m\u001b[0mpos2\u001b[0m\u001b[0;34m)\u001b[0m\u001b[0;34m=\u001b[0m\u001b[0mopcode\u001b[0m\u001b[0;34m(\u001b[0m\u001b[0minputprog0\u001b[0m\u001b[0;34m,\u001b[0m\u001b[0mi\u001b[0m\u001b[0;34m,\u001b[0m\u001b[0mx\u001b[0m\u001b[0;34m)\u001b[0m\u001b[0;34m\u001b[0m\u001b[0;34m\u001b[0m\u001b[0m\n",
      "\u001b[0;31mNameError\u001b[0m: name 'inputprog0' is not defined"
     ]
    }
   ],
   "source": [
    "a = recurs_amp_circ([3,26,1001,26,-4,26,3,27,1002,27,2,27,1,27,26,27,4,27,1001,28,-1,28,1005,28,6,99,0,0,5])"
   ]
  },
  {
   "cell_type": "code",
   "execution_count": 119,
   "metadata": {},
   "outputs": [
    {
     "name": "stdout",
     "output_type": "stream",
     "text": [
      "None\n"
     ]
    }
   ],
   "source": [
    "print(a)"
   ]
  },
  {
   "cell_type": "code",
   "execution_count": 26,
   "metadata": {},
   "outputs": [],
   "source": [
    "input_prog=[3,26,1001,26,-4,26,3,27,1002,27,2,27,1,27,26,27,4,27,1001,28,-1,28,1005,28,6,99,0,0,5]"
   ]
  },
  {
   "cell_type": "code",
   "execution_count": 33,
   "metadata": {},
   "outputs": [],
   "source": [
    "old_prog=input_prog[:]\n",
    "old_prog1=input_prog[:]\n",
    "old_prog2=input_prog[:]"
   ]
  },
  {
   "cell_type": "code",
   "execution_count": 34,
   "metadata": {},
   "outputs": [],
   "source": [
    "old_prog[0]=99999\n",
    "old_prog1[0]=-123456\n",
    "old_prog2[0]='00000'"
   ]
  },
  {
   "cell_type": "code",
   "execution_count": 37,
   "metadata": {},
   "outputs": [
    {
     "data": {
      "text/plain": [
       "['00000',\n",
       " 26,\n",
       " 1001,\n",
       " 26,\n",
       " -4,\n",
       " 26,\n",
       " 3,\n",
       " 27,\n",
       " 1002,\n",
       " 27,\n",
       " 2,\n",
       " 27,\n",
       " 1,\n",
       " 27,\n",
       " 26,\n",
       " 27,\n",
       " 4,\n",
       " 27,\n",
       " 1001,\n",
       " 28,\n",
       " -1,\n",
       " 28,\n",
       " 1005,\n",
       " 28,\n",
       " 6,\n",
       " 99,\n",
       " 0,\n",
       " 0,\n",
       " 5]"
      ]
     },
     "execution_count": 37,
     "metadata": {},
     "output_type": "execute_result"
    }
   ],
   "source": [
    "old_prog2"
   ]
  },
  {
   "cell_type": "code",
   "execution_count": null,
   "metadata": {},
   "outputs": [],
   "source": []
  }
 ],
 "metadata": {
  "kernelspec": {
   "display_name": "Python 3",
   "language": "python",
   "name": "python3"
  },
  "language_info": {
   "codemirror_mode": {
    "name": "ipython",
    "version": 3
   },
   "file_extension": ".py",
   "mimetype": "text/x-python",
   "name": "python",
   "nbconvert_exporter": "python",
   "pygments_lexer": "ipython3",
   "version": "3.8.3"
  },
  "varInspector": {
   "cols": {
    "lenName": 16,
    "lenType": 16,
    "lenVar": 40
   },
   "kernels_config": {
    "python": {
     "delete_cmd_postfix": "",
     "delete_cmd_prefix": "del ",
     "library": "var_list.py",
     "varRefreshCmd": "print(var_dic_list())"
    },
    "r": {
     "delete_cmd_postfix": ") ",
     "delete_cmd_prefix": "rm(",
     "library": "var_list.r",
     "varRefreshCmd": "cat(var_dic_list()) "
    }
   },
   "types_to_exclude": [
    "module",
    "function",
    "builtin_function_or_method",
    "instance",
    "_Feature"
   ],
   "window_display": false
  }
 },
 "nbformat": 4,
 "nbformat_minor": 2
}
