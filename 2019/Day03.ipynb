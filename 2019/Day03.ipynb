{
 "cells": [
  {
   "cell_type": "markdown",
   "metadata": {},
   "source": [
    "# Day 3: Crossed Wires "
   ]
  },
  {
   "cell_type": "markdown",
   "metadata": {},
   "source": [
    "## Part 1"
   ]
  },
  {
   "cell_type": "code",
   "execution_count": 171,
   "metadata": {},
   "outputs": [],
   "source": [
    "import numpy as np\n",
    "from numpy.linalg import norm\n",
    "import doctest"
   ]
  },
  {
   "cell_type": "code",
   "execution_count": 21,
   "metadata": {},
   "outputs": [],
   "source": [
    "def man_dist([A,B]):\n",
    "    '''\n",
    "    list, list -> int\n",
    "    \n",
    "    Computes the manhattan distance between two points on a grid.\n",
    "    \n",
    "    >>> man_dist(np.array([0, 0]), np.array([1,1]))\n",
    "    2\n",
    "    >>> man_dist(np.array([-1,-1]),np.array([1,1]))\n",
    "    4\n",
    "    '''\n",
    "    \n",
    "    return int(norm(A-B,1))\n",
    "    "
   ]
  },
  {
   "cell_type": "code",
   "execution_count": 181,
   "metadata": {},
   "outputs": [
    {
     "data": {
      "text/plain": [
       "TestResults(failed=0, attempted=12)"
      ]
     },
     "execution_count": 181,
     "metadata": {},
     "output_type": "execute_result"
    }
   ],
   "source": [
    "doctest.testmod()"
   ]
  },
  {
   "cell_type": "code",
   "execution_count": 122,
   "metadata": {
    "code_folding": []
   },
   "outputs": [],
   "source": [
    "def prop_wire(input):\n",
    "    '''\n",
    "    str -> list\n",
    "    \n",
    "    Propagates a wire around a board.\n",
    "    \n",
    "    >>> prop_wire(\"R1,\")\n",
    "    [[0, 0], [1, 0]]\n",
    "    >>> prop_wire(\"L1,\")\n",
    "    [[0, 0], [-1, 0]]\n",
    "    >>> prop_wire(\"U1,\")\n",
    "    [[0, 0], [0, 1]]\n",
    "    >>> prop_wire(\"D1,\")\n",
    "    [[0, 0], [0, -1]]\n",
    "    >>> prop_wire(\",\")\n",
    "    [[0, 0]]\n",
    "    >>> prop_wire(\"D1,U1,\")\n",
    "    [[0, 0], [0, -1], [0, 0]]\n",
    "    >>> prop_wire(\"D1,L1,U1,R1,\")\n",
    "    [[0, 0], [0, -1], [-1, -1], [-1, 0], [0, 0]]\n",
    "    \n",
    "    \n",
    "    '''\n",
    "    listlocs=[]\n",
    "    x=0\n",
    "    y=0\n",
    "    listlocs.append([x,y])\n",
    "    for dir in input.split(sep=\",\"):\n",
    "        if dir.startswith(\"R\"):\n",
    "            for i in range(int(dir.replace('R',''))):\n",
    "                x,y=x+1,y\n",
    "                listlocs.append([x,y])\n",
    "        if dir.startswith(\"L\"):\n",
    "            for i in range(int(dir.replace('L',''))):\n",
    "                x,y=x-1,y\n",
    "                listlocs.append([x,y])\n",
    "        if dir.startswith(\"U\"):\n",
    "            for i in range(int(dir.replace('U',''))):\n",
    "                x,y=x,y+1\n",
    "                listlocs.append([x,y])\n",
    "        if dir.startswith(\"D\"):\n",
    "            for i in range(int(dir.replace('D',''))):\n",
    "                x,y=x,y-1\n",
    "                listlocs.append([x,y])\n",
    "        if (dir == ''):\n",
    "            return listlocs"
   ]
  },
  {
   "cell_type": "code",
   "execution_count": 121,
   "metadata": {},
   "outputs": [
    {
     "data": {
      "text/plain": [
       "TestResults(failed=0, attempted=9)"
      ]
     },
     "execution_count": 121,
     "metadata": {},
     "output_type": "execute_result"
    }
   ],
   "source": []
  },
  {
   "cell_type": "code",
   "execution_count": 126,
   "metadata": {},
   "outputs": [],
   "source": []
  },
  {
   "cell_type": "code",
   "execution_count": 212,
   "metadata": {
    "code_folding": []
   },
   "outputs": [],
   "source": [
    "def find_overlaps(A,B):\n",
    "    '''\n",
    "    str, str -> int\n",
    "    \n",
    "    find the closest overlap of two wire paths to the centre point\n",
    "    \n",
    "    >>> find_closest_int(\"R8,U5,L5,D3,\",\"U7,R6,D4,L4,\")\n",
    "    6\n",
    "    >>> find_closest_int(\"R75,D30,R83,U83,L12,D49,R71,U7,L72,\",\"U62,R66,U55,R34,D71,R55,D58,R83,\")\n",
    "    159\n",
    "    >>> find_closest_int(\"R98,U47,R26,D63,R33,U87,L62,D20,R33,U53,R51,\",\"U98,R91,D20,R16,D67,R40,U7,R15,U6,R7,\")\n",
    "    135\n",
    "    \n",
    "    '''\n",
    "\n",
    "    wire1route=prop_wire(A)\n",
    "    wire2route=prop_wire(B)\n",
    "    \n",
    "    wire1tuple=set(tuple(row) for row in wire1route)\n",
    "    wire2tuple=set(tuple(row) for row in wire2route)\n",
    "    tuplelist=wire1tuple.intersection(wire2tuple)\n",
    "    listoverlaps=[list(t) for t in tuplelist]\n",
    "    \n",
    "    distoverlaps=[]\n",
    "    for loc in listoverlaps:\n",
    "        distoverlaps.append(np.abs(loc[0])+np.abs(loc[1]))\n",
    "    distoverlaps.sort()\n",
    "    distoverlaps.remove(0)\n",
    "    distoverlaps.reverse()\n",
    "    return distoverlaps[-1]"
   ]
  },
  {
   "cell_type": "code",
   "execution_count": 51,
   "metadata": {},
   "outputs": [],
   "source": [
    "wire1=\"R1009,U34,L600,U800,R387,D247,R76,U797,R79,D582,L325,D236,R287,U799,R760,U2,L261,D965,R854,D901,R527,D998,R247,U835,L29,U525,L10,D351,L599,D653,L39,D112,R579,D650,L539,D974,R290,U729,L117,D112,L926,U270,L158,D800,L291,U710,L28,D211,R700,U691,L488,D307,R448,U527,L9,D950,L535,D281,L683,U576,L372,U849,R485,D237,L691,U453,L667,U856,R832,U956,L47,D951,R171,U484,R651,D731,L768,D44,R292,U107,L237,U731,L795,D460,R781,U77,L316,U873,L994,D322,L479,U121,R754,U68,L454,D162,L308,D986,L893,D808,R929,D328,L591,D718,R616,U139,R221,U124,R477,U614,L439,D329,R217,D157,L65,D460,R523,U955,R512,D458,L823,D975,R506,D870,R176,U558,R935,U319,L281,D470,L285,U639,L974,U186,L874,U487,L979,D95,R988,U398,R776,D637,R75,U331,R746,D603,R102,U978,R702,U89,L48,D757,L173,D422,L394,U800,R955,U644,R911,D327,R471,D313,L982,D93,R998,U549,R210,D640,R332,U566,R736,U302,L69,U677,L137,U674,R204,D720,R868,U143,L635,D177,L277,D749,R180,D432,R451,D426,R559,U964,L35,U452,L848,D707,R758,D41,R889,D966,R460,U11,R819,D30,L953,U150,L621,U915,R400,D723,R299,D93,L987,D790,L541,U864,R711,D968,L2,D963,L996,D260,L824,D765,L617,U257,R175,U786,L873,D118,L433,U246,R821,D308,L468,U53,R859,U806,L197,D663,R540,D84,L398,D945,L999,U114,L731,D676,L538,U680,R519,U313,R699,U746,R471,D393,L902,U697,R542,D385,R183,U463,R276,U990,R111,U709,R726,D996,L728,D215,R726,D911,L199,D484,R282,U129,L329,U309,L270,U990,L813,U242,L353,D741,R447,D253,L556,U487,L102,D747,L965,D743,R768,U589,R657,D910,L760,D981,L982,D292,R730,U236,L831,\"\n",
    "wire2=\"L1000,U720,R111,D390,L400,U931,R961,D366,L172,D434,R514,D185,L555,D91,R644,U693,L902,U833,L28,U136,R204,D897,L18,D601,R855,U409,R567,U57,L561,D598,R399,D238,R37,U478,R792,D587,R740,D647,L593,U576,L662,U389,R540,U359,R547,D449,R518,D747,L887,U421,R153,D365,L357,U495,L374,D27,L338,D57,R431,U796,L487,D480,L273,U662,R874,D29,R596,D166,R167,D788,R175,D395,L739,U180,R145,U824,L156,D387,R427,U167,R268,D653,L371,D467,L216,U23,L930,D494,L76,U338,R813,U373,R237,D1,R706,U37,R202,D187,L905,D431,R787,D391,R576,D370,R320,U225,L901,D921,R656,U517,R782,D965,L849,U241,L160,U792,L587,U408,L750,U21,R317,U919,L449,D691,L895,D853,L547,D178,R793,D921,L873,D962,L232,U690,L815,U309,R455,U156,L200,U34,L761,U402,R278,U952,L294,D183,R475,U770,L375,D117,R58,D905,L580,U240,R263,U549,R771,U512,L20,D996,L265,U619,L742,U754,L68,D824,R694,D678,R412,D321,R611,U325,L874,U776,L907,U39,R568,D485,R528,D197,R487,D920,R879,D935,R107,U897,L263,D979,L420,U498,L757,D348,L279,U266,R699,D729,R65,U672,L945,U780,L339,U324,R927,U357,R324,U435,R602,D245,L456,D161,L537,U740,R454,U211,L952,D356,L317,U456,L6,D718,L389,D554,L366,D141,R543,U756,R334,U209,L207,U726,R375,U59,L238,D118,L514,D390,R212,U272,L350,U898,L105,U514,L591,U839,L767,U651,R298,U726,L429,U350,L53,U789,R9,D295,L558,U9,L515,D177,L430,U158,L959,U601,L994,U635,L252,D159,R155,U601,L809,D5,R47,U567,R328,U559,R149,U43,L612,U428,R694,D568,L80,U80,R983,D143,R612,U735,L10,D697,L640,D788,R714,U555,L139,U396,L830,D825,R928,D25,L889,U973,L343,\""
   ]
  },
  {
   "cell_type": "code",
   "execution_count": 213,
   "metadata": {},
   "outputs": [
    {
     "data": {
      "text/plain": [
       "260"
      ]
     },
     "execution_count": 213,
     "metadata": {},
     "output_type": "execute_result"
    }
   ],
   "source": [
    "find_closest_int(wire1,wire2)"
   ]
  },
  {
   "cell_type": "markdown",
   "metadata": {},
   "source": [
    "## Part 2"
   ]
  },
  {
   "cell_type": "code",
   "execution_count": 31,
   "metadata": {
    "code_folding": [
     0
    ]
   },
   "outputs": [],
   "source": [
    "def prop_wire_time(input):\n",
    "    '''\n",
    "    str -> dict, list\n",
    "    \n",
    "    Propagates a wire around a board.\n",
    "    \n",
    "    >>> prop_wire(\"R1,\")\n",
    "    [[0, 0], [1, 0]]\n",
    "    >>> prop_wire(\"L1,\")\n",
    "    [[0, 0], [-1, 0]]\n",
    "    >>> prop_wire(\"U1,\")\n",
    "    [[0, 0], [0, 1]]\n",
    "    >>> prop_wire(\"D1,\")\n",
    "    [[0, 0], [0, -1]]\n",
    "    >>> prop_wire(\",\")\n",
    "    [[0, 0]]\n",
    "    >>> prop_wire(\"D1,U1,\")\n",
    "    [[0, 0], [0, -1], [0, 0]]\n",
    "    >>> prop_wire(\"D1,L1,U1,R1,\")\n",
    "    [[0, 0], [0, -1], [-1, -1], [-1, 0], [0, 0]]\n",
    "    \n",
    "    \n",
    "    '''\n",
    "    listlocs=[]\n",
    "    dictlocs={}\n",
    "    x=0\n",
    "    y=0\n",
    "    step=0\n",
    "    dictlocs[str(x)+','+str(y)]=step\n",
    "    listlocs.append([x,y])\n",
    "    for dir in input.split(sep=\",\"):\n",
    "        if dir.startswith(\"R\"):\n",
    "            for i in range(int(dir.replace('R',''))):\n",
    "                x,y=x+1,y\n",
    "                step=step+1\n",
    "                listlocs.append([x,y])\n",
    "                if (str(x)+','+str(y) not in dictlocs.keys()):\n",
    "                    dictlocs[str(x)+','+str(y)]=step\n",
    "        if dir.startswith(\"L\"):\n",
    "            for i in range(int(dir.replace('L',''))):\n",
    "                x,y=x-1,y\n",
    "                step=step+1\n",
    "                listlocs.append([x,y])\n",
    "                if (str(x)+','+str(y) not in dictlocs.keys()):\n",
    "                    dictlocs[str(x)+','+str(y)]=step\n",
    "        if dir.startswith(\"U\"):\n",
    "            for i in range(int(dir.replace('U',''))):\n",
    "                x,y=x,y+1\n",
    "                step=step+1\n",
    "                listlocs.append([x,y])\n",
    "                if (str(x)+','+str(y) not in dictlocs.keys()):\n",
    "                    dictlocs[str(x)+','+str(y)]=step\n",
    "        if dir.startswith(\"D\"):\n",
    "            for i in range(int(dir.replace('D',''))):\n",
    "                x,y=x,y-1\n",
    "                step=step+1\n",
    "                listlocs.append([x,y])\n",
    "                if (str(x)+','+str(y) not in dictlocs.keys()):\n",
    "                    dictlocs[str(x)+','+str(y)]=step\n",
    "        if (dir == ''):\n",
    "            return dictlocs, listlocs"
   ]
  },
  {
   "cell_type": "code",
   "execution_count": 58,
   "metadata": {},
   "outputs": [],
   "source": [
    "def find_overlaps_time(A,B):\n",
    "    '''\n",
    "    str, str -> int\n",
    "    \n",
    "    find the closest overlap of two wire paths to the centre point by nummber of paths taken\n",
    "    \n",
    "    >>> find_overlaps_time(\"R75,D30,R83,U83,L12,D49,R71,U7,L72,\",\"U62,R66,U55,R34,D71,R55,D58,R83,\")\n",
    "    610\n",
    "    >>> find_overlaps_time(\"R98,U47,R26,D63,R33,U87,L62,D20,R33,U53,R51,\",\"U98,R91,D20,R16,D67,R40,U7,R15,U6,R7,\")\n",
    "    410\n",
    "    \n",
    "    '''\n",
    "\n",
    "    wire1timing,wire1route=prop_wire_time(A)\n",
    "    wire2timing,wire2route=prop_wire_time(B)\n",
    "\n",
    "    wire1tuple=set(tuple(row) for row in wire1route)\n",
    "    wire2tuple=set(tuple(row) for row in wire2route)\n",
    "    tuplelist=wire1tuple.intersection(wire2tuple)\n",
    "    listoverlaps=[list(t) for t in tuplelist]\n",
    "\n",
    "    timeoverlaps=[]\n",
    "    for loc in listoverlaps:\n",
    "        timeoverlaps.append(wire1timing[str(loc[0])+','+str(loc[1])] + wire2timing[str(loc[0])+','+str(loc[1])])\n",
    "    timeoverlaps.sort()\n",
    "    timeoverlaps.remove(0)\n",
    "    timeoverlaps.reverse()\n",
    "    return timeoverlaps[-1]"
   ]
  },
  {
   "cell_type": "code",
   "execution_count": 59,
   "metadata": {},
   "outputs": [
    {
     "data": {
      "text/plain": [
       "15612"
      ]
     },
     "execution_count": 59,
     "metadata": {},
     "output_type": "execute_result"
    }
   ],
   "source": [
    "find_overlaps_time(wire1,wire2)"
   ]
  },
  {
   "cell_type": "code",
   "execution_count": null,
   "metadata": {},
   "outputs": [],
   "source": []
  }
 ],
 "metadata": {
  "kernelspec": {
   "display_name": "Python 3",
   "language": "python",
   "name": "python3"
  },
  "language_info": {
   "codemirror_mode": {
    "name": "ipython",
    "version": 3
   },
   "file_extension": ".py",
   "mimetype": "text/x-python",
   "name": "python",
   "nbconvert_exporter": "python",
   "pygments_lexer": "ipython3",
   "version": "3.8.3"
  },
  "varInspector": {
   "cols": {
    "lenName": 16,
    "lenType": 16,
    "lenVar": 40
   },
   "kernels_config": {
    "python": {
     "delete_cmd_postfix": "",
     "delete_cmd_prefix": "del ",
     "library": "var_list.py",
     "varRefreshCmd": "print(var_dic_list())"
    },
    "r": {
     "delete_cmd_postfix": ") ",
     "delete_cmd_prefix": "rm(",
     "library": "var_list.r",
     "varRefreshCmd": "cat(var_dic_list()) "
    }
   },
   "types_to_exclude": [
    "module",
    "function",
    "builtin_function_or_method",
    "instance",
    "_Feature"
   ],
   "window_display": false
  }
 },
 "nbformat": 4,
 "nbformat_minor": 2
}
