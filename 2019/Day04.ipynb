{
 "cells": [
  {
   "cell_type": "markdown",
   "metadata": {},
   "source": [
    "# Day 4: Secure Container "
   ]
  },
  {
   "cell_type": "markdown",
   "metadata": {},
   "source": [
    "## Part 1"
   ]
  },
  {
   "cell_type": "code",
   "execution_count": 28,
   "metadata": {},
   "outputs": [],
   "source": [
    "import doctest"
   ]
  },
  {
   "cell_type": "code",
   "execution_count": 87,
   "metadata": {},
   "outputs": [],
   "source": [
    "minnum=130254\n",
    "maxnum=678275"
   ]
  },
  {
   "cell_type": "code",
   "execution_count": 30,
   "metadata": {
    "code_folding": []
   },
   "outputs": [],
   "source": [
    "def adjacent(x):\n",
    "    '''\n",
    "    int - > bool\n",
    "    \n",
    "    returns true if the int contains consequetive numbers the same\n",
    "    \n",
    "    >>> adjacent(111111)\n",
    "    True\n",
    "    >>> adjacent(123789)\n",
    "    False\n",
    "    >>> adjacent(223450)\n",
    "    True\n",
    "    '''\n",
    "    prev_i=''\n",
    "    for i in str(x):\n",
    "        if (prev_i == i):\n",
    "            return True\n",
    "        prev_i=i\n",
    "    return False"
   ]
  },
  {
   "cell_type": "code",
   "execution_count": 104,
   "metadata": {
    "code_folding": []
   },
   "outputs": [],
   "source": [
    "def increasing(x):\n",
    "    '''\n",
    "    int - > bool\n",
    "    \n",
    "    returns true if the int contains non decreasing numbers\n",
    "    \n",
    "    >>> increasing(111111)\n",
    "    True\n",
    "    >>> increasing(123789)\n",
    "    True\n",
    "    >>> increasing(223450)\n",
    "    False\n",
    "    '''\n",
    "    if (''.join(sorted(str(x)))==str(x)):\n",
    "        return True\n",
    "    return False"
   ]
  },
  {
   "cell_type": "code",
   "execution_count": 32,
   "metadata": {},
   "outputs": [
    {
     "data": {
      "text/plain": [
       "TestResults(failed=0, attempted=6)"
      ]
     },
     "execution_count": 32,
     "metadata": {},
     "output_type": "execute_result"
    }
   ],
   "source": [
    "doctest.testmod()"
   ]
  },
  {
   "cell_type": "code",
   "execution_count": 33,
   "metadata": {},
   "outputs": [],
   "source": [
    "count=0\n",
    "for i in range(minnum,maxnum):\n",
    "    if (increasing(i) and adjacent(i)):\n",
    "        count=count+1"
   ]
  },
  {
   "cell_type": "code",
   "execution_count": 34,
   "metadata": {},
   "outputs": [
    {
     "name": "stdout",
     "output_type": "stream",
     "text": [
      "2090\n"
     ]
    }
   ],
   "source": [
    "print(count)"
   ]
  },
  {
   "cell_type": "markdown",
   "metadata": {},
   "source": [
    "## Part 2"
   ]
  },
  {
   "cell_type": "code",
   "execution_count": 177,
   "metadata": {
    "code_folding": [
     0
    ]
   },
   "outputs": [],
   "source": [
    "def two_adjacent(x):\n",
    "    '''\n",
    "    int - > bool\n",
    "    \n",
    "    returns true if and only if two adjacent numbers are the same\n",
    "    \n",
    "    >>> two_adjacent(112233)\n",
    "    True\n",
    "    >>> two_adjacent(123444)\n",
    "    False\n",
    "    >>> two_adjacent(111122)\n",
    "    True\n",
    "    '''\n",
    "    prev_i=''\n",
    "    run=0\n",
    "    counter=0\n",
    "    for i in str(x):\n",
    "        #print (\"i=\"+i)\n",
    "        #print (\"run=\"+str(run))\n",
    "        #print (\"last_i=\"+prev_i)\n",
    "        #print (counter)\n",
    "        if (prev_i != i):\n",
    "            if (run==2):\n",
    "                return True\n",
    "            run=1\n",
    "        else: \n",
    "            #edge case where the currentRun == 1, but we are on the last digit and it's the same\n",
    "            # we saw last, so we have a run of 2\n",
    "            if (run == 1 and counter==len(str(x))-1 and i == prev_i and ):\n",
    "                return True\n",
    "            run=run+1\n",
    "        prev_i=i\n",
    "        counter=counter+1\n",
    "    return False"
   ]
  },
  {
   "cell_type": "code",
   "execution_count": 183,
   "metadata": {},
   "outputs": [
    {
     "data": {
      "text/plain": [
       "True"
      ]
     },
     "execution_count": 183,
     "metadata": {},
     "output_type": "execute_result"
    }
   ],
   "source": [
    "two_adjacent(112233)"
   ]
  },
  {
   "cell_type": "code",
   "execution_count": 184,
   "metadata": {},
   "outputs": [
    {
     "data": {
      "text/plain": [
       "False"
      ]
     },
     "execution_count": 184,
     "metadata": {},
     "output_type": "execute_result"
    }
   ],
   "source": [
    "two_adjacent(123444)"
   ]
  },
  {
   "cell_type": "code",
   "execution_count": 185,
   "metadata": {},
   "outputs": [
    {
     "data": {
      "text/plain": [
       "True"
      ]
     },
     "execution_count": 185,
     "metadata": {},
     "output_type": "execute_result"
    }
   ],
   "source": [
    "two_adjacent(123544)"
   ]
  },
  {
   "cell_type": "code",
   "execution_count": 186,
   "metadata": {},
   "outputs": [
    {
     "data": {
      "text/plain": [
       "True"
      ]
     },
     "execution_count": 186,
     "metadata": {},
     "output_type": "execute_result"
    }
   ],
   "source": [
    "two_adjacent(111122)"
   ]
  },
  {
   "cell_type": "code",
   "execution_count": 187,
   "metadata": {},
   "outputs": [
    {
     "name": "stdout",
     "output_type": "stream",
     "text": [
      "1419\n"
     ]
    }
   ],
   "source": [
    "count=0\n",
    "for i in range(minnum,maxnum):\n",
    "    if (increasing(i) and two_adjacent(i)):\n",
    "        count=count+1\n",
    "print(count)"
   ]
  },
  {
   "cell_type": "code",
   "execution_count": null,
   "metadata": {},
   "outputs": [],
   "source": []
  }
 ],
 "metadata": {
  "kernelspec": {
   "display_name": "Python 3",
   "language": "python",
   "name": "python3"
  },
  "language_info": {
   "codemirror_mode": {
    "name": "ipython",
    "version": 3
   },
   "file_extension": ".py",
   "mimetype": "text/x-python",
   "name": "python",
   "nbconvert_exporter": "python",
   "pygments_lexer": "ipython3",
   "version": "3.8.3"
  },
  "varInspector": {
   "cols": {
    "lenName": 16,
    "lenType": 16,
    "lenVar": 40
   },
   "kernels_config": {
    "python": {
     "delete_cmd_postfix": "",
     "delete_cmd_prefix": "del ",
     "library": "var_list.py",
     "varRefreshCmd": "print(var_dic_list())"
    },
    "r": {
     "delete_cmd_postfix": ") ",
     "delete_cmd_prefix": "rm(",
     "library": "var_list.r",
     "varRefreshCmd": "cat(var_dic_list()) "
    }
   },
   "types_to_exclude": [
    "module",
    "function",
    "builtin_function_or_method",
    "instance",
    "_Feature"
   ],
   "window_display": false
  }
 },
 "nbformat": 4,
 "nbformat_minor": 2
}
