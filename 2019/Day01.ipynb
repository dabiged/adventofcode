{
 "cells": [
  {
   "cell_type": "markdown",
   "metadata": {},
   "source": [
    "#    Day 1: The Tyranny of the Rocket Equation "
   ]
  },
  {
   "cell_type": "markdown",
   "metadata": {},
   "source": [
    "## Part 1"
   ]
  },
  {
   "cell_type": "markdown",
   "metadata": {},
   "source": [
    "Create a function for determining the fuel per space part"
   ]
  },
  {
   "cell_type": "code",
   "execution_count": 63,
   "metadata": {},
   "outputs": [],
   "source": [
    "def get_fuel(mass):\n",
    "    \"\"\" int -> int\n",
    "\n",
    "    Return the fuel required to move a module of mass mass\n",
    "\n",
    "    >>> get_fuel(12)\n",
    "    2\n",
    "    >>> get_fuel(14)\n",
    "    2\n",
    "    >>> get_fuel(1969)\n",
    "    654\n",
    "    >>> get_fuel(100756)\n",
    "    33583\n",
    "    \"\"\"\n",
    "    output=(mass//3)-2\n",
    "    if (output <= 0 ):\n",
    "        output=0\n",
    "    return output"
   ]
  },
  {
   "cell_type": "code",
   "execution_count": 52,
   "metadata": {},
   "outputs": [],
   "source": [
    "import doctest\n",
    "import numpy as np"
   ]
  },
  {
   "cell_type": "markdown",
   "metadata": {},
   "source": [
    "Check that the written function passes the tests in the function's documentation"
   ]
  },
  {
   "cell_type": "code",
   "execution_count": 76,
   "metadata": {},
   "outputs": [
    {
     "data": {
      "text/plain": [
       "TestResults(failed=0, attempted=8)"
      ]
     },
     "execution_count": 76,
     "metadata": {},
     "output_type": "execute_result"
    }
   ],
   "source": [
    "doctest.testmod()"
   ]
  },
  {
   "cell_type": "markdown",
   "metadata": {},
   "source": [
    "Load the space ship part's masses"
   ]
  },
  {
   "cell_type": "code",
   "execution_count": 26,
   "metadata": {},
   "outputs": [],
   "source": [
    "a=np.loadtxt('Day1_input.txt').astype(int)"
   ]
  },
  {
   "cell_type": "markdown",
   "metadata": {},
   "source": [
    "Calculate the total fuel."
   ]
  },
  {
   "cell_type": "code",
   "execution_count": 36,
   "metadata": {},
   "outputs": [
    {
     "name": "stdout",
     "output_type": "stream",
     "text": [
      "3454942\n"
     ]
    }
   ],
   "source": [
    "totalfuel=0\n",
    "for i in a:\n",
    "    totalfuel+=get_fuel(i)\n",
    "print(totalfuel)"
   ]
  },
  {
   "cell_type": "markdown",
   "metadata": {},
   "source": [
    "This is how Matteo Did it."
   ]
  },
  {
   "cell_type": "code",
   "execution_count": 43,
   "metadata": {},
   "outputs": [
    {
     "data": {
      "text/plain": [
       "3454942"
      ]
     },
     "execution_count": 43,
     "metadata": {},
     "output_type": "execute_result"
    }
   ],
   "source": [
    "day1_in = np.loadtxt('Day1_input.txt').astype(int)\n",
    "get_fuel(day1_in).sum()\n",
    "\n"
   ]
  },
  {
   "cell_type": "markdown",
   "metadata": {},
   "source": [
    "## Part 2"
   ]
  },
  {
   "cell_type": "code",
   "execution_count": 74,
   "metadata": {},
   "outputs": [],
   "source": [
    "def get_all_fuel(mass):\n",
    "    \"\"\" int -> int\n",
    "\n",
    "    Return the fuel required to move a module of mass mass\n",
    "\n",
    "    >>> get_all_fuel(12)\n",
    "    2\n",
    "    >>> get_all_fuel(14)\n",
    "    2\n",
    "    >>> get_all_fuel(1969)\n",
    "    966\n",
    "    >>> get_all_fuel(100756)\n",
    "    50346\n",
    "    \"\"\"\n",
    "    total_fuel=0\n",
    "    new_fuel=get_fuel(mass)\n",
    "    total_fuel+=new_fuel\n",
    "    while new_fuel != 0:\n",
    "        new_fuel=get_fuel(new_fuel)\n",
    "        total_fuel+=new_fuel\n",
    "    return total_fuel"
   ]
  },
  {
   "cell_type": "code",
   "execution_count": 78,
   "metadata": {},
   "outputs": [
    {
     "name": "stdout",
     "output_type": "stream",
     "text": [
      "5179544\n"
     ]
    }
   ],
   "source": [
    "totalfuel=0\n",
    "for i in a:\n",
    "    totalfuel+=get_all_fuel(i)\n",
    "print(totalfuel)"
   ]
  }
 ],
 "metadata": {
  "kernelspec": {
   "display_name": "Python 3",
   "language": "python",
   "name": "python3"
  },
  "language_info": {
   "codemirror_mode": {
    "name": "ipython",
    "version": 3
   },
   "file_extension": ".py",
   "mimetype": "text/x-python",
   "name": "python",
   "nbconvert_exporter": "python",
   "pygments_lexer": "ipython3",
   "version": "3.8.3"
  },
  "varInspector": {
   "cols": {
    "lenName": 16,
    "lenType": 16,
    "lenVar": 40
   },
   "kernels_config": {
    "python": {
     "delete_cmd_postfix": "",
     "delete_cmd_prefix": "del ",
     "library": "var_list.py",
     "varRefreshCmd": "print(var_dic_list())"
    },
    "r": {
     "delete_cmd_postfix": ") ",
     "delete_cmd_prefix": "rm(",
     "library": "var_list.r",
     "varRefreshCmd": "cat(var_dic_list()) "
    }
   },
   "types_to_exclude": [
    "module",
    "function",
    "builtin_function_or_method",
    "instance",
    "_Feature"
   ],
   "window_display": false
  }
 },
 "nbformat": 4,
 "nbformat_minor": 2
}
