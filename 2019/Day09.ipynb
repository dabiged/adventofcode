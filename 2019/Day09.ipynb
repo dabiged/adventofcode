{
 "cells": [
  {
   "cell_type": "markdown",
   "metadata": {},
   "source": [
    "# Day 9: Sensor Boost\n"
   ]
  },
  {
   "cell_type": "markdown",
   "metadata": {},
   "source": [
    "## Part 1"
   ]
  },
  {
   "cell_type": "code",
   "execution_count": 3,
   "metadata": {
    "code_folding": [
     0
    ]
   },
   "outputs": [],
   "source": [
    "def get_opcode(x):\n",
    "    '''\n",
    "    int -> int\n",
    "    \n",
    "    Returns the opcode of an instruction\n",
    "    '''\n",
    "    return x%100"
   ]
  },
  {
   "cell_type": "code",
   "execution_count": 4,
   "metadata": {
    "code_folding": [
     0
    ]
   },
   "outputs": [],
   "source": [
    "def get_posorval(instruction, param, num, myprog):\n",
    "    '''\n",
    "    int, int, int -> int\n",
    "    \n",
    "    instruction: up to 5 char int of 3 parameter or value + 2 digit opcode.\n",
    "    param: Which of the 3 parameters we are calculating on\n",
    "    num: value in the program we are checking\n",
    "    \n",
    "    '''\n",
    "    param=param-1\n",
    "    filled_instruction=str(instruction).zfill(5)\n",
    "    if (filled_instruction[param] == \"0\" ):\n",
    "        return myprog[myprog[num]]\n",
    "    elif (filled_instruction[param] == \"1\" ):\n",
    "        return myprog[num]\n",
    "    else: \n",
    "        return None"
   ]
  },
  {
   "cell_type": "code",
   "execution_count": 48,
   "metadata": {
    "code_folding": [
     18,
     30,
     40,
     57,
     70,
     77,
     87,
     107,
     127
    ]
   },
   "outputs": [],
   "source": [
    "def opcode(prog, phase=1, inputval=1):\n",
    "    '''\n",
    "    list -> list\n",
    "    \n",
    "    A turing tape like computing device\n",
    "    '''\n",
    "    for i in range(10000):\n",
    "        prog.append(0)\n",
    "    i=0\n",
    "    inputnum=0\n",
    "    opcode='00'\n",
    "    rel_base=0\n",
    "    while (opcode != 99):\n",
    "        #print (i, rel_base, prog)\n",
    "\n",
    "        instruction=prog[i]\n",
    "        assignparam=int(str(instruction).zfill(5)[0])\n",
    "        opcode=get_opcode(instruction)\n",
    "        if (opcode == 1):\n",
    "        # Opcode 1 adds together numbers read from two positions and stores the result in a third position. \n",
    "        # The three integers immediately after the opcode tell you these three positions - \n",
    "        #   the first two indicate the positions from which you should read the input values, \n",
    "        #   and the third indicates the position at which the output should be stored.\n",
    "            if (assignparam == 0 ):\n",
    "                prog[prog[i+3]]=get_posorval(instruction, 3, i+1, prog)+get_posorval(instruction, 2, i+2, prog)\n",
    "            elif(assignparam == 1 ):\n",
    "                prog[i+3]=get_posorval(instruction, 3, i+1, prog)+get_posorval(instruction, 2, i+2, prog)\n",
    "            elif(assignparam == 2 ):\n",
    "                prog[prog[i+1]+rel_base]=get_posorval(instruction, 3, i+1, prog)+get_posorval(instruction, 2, i+2, prog)\n",
    "            i=i+4\n",
    "        elif (opcode == 2):\n",
    "        # Opcode 2 works exactly like opcode 1, except it multiplies the two inputs instead of adding them. \n",
    "        # Again, the three integers after the opcode indicate where the inputs and outputs are, not their values.\n",
    "            if (assignparam == 0 ):\n",
    "                prog[prog[i+3]]=get_posorval(instruction, 3, i+1, prog)*get_posorval(instruction, 2, i+2, prog)\n",
    "            elif(assignparam == 1 ):\n",
    "                prog[i+3]=get_posorval(instruction, 3, i+1, prog)*get_posorval(instruction, 2, i+2, prog)\n",
    "            elif(assignparam == 2 ):\n",
    "                prog[prog[i+1]+rel_base]=get_posorval(instruction, 3, i+1, prog)*get_posorval(instruction, 2, i+2, prog)\n",
    "            i=i+4\n",
    "        elif (opcode == 3):\n",
    "        # Opcode 3 takes a single integer as input and saves it to the position given by its only parameter. For example, the instruction 3,50 would take an input value and store it at address 50.\n",
    "            assignparam=(instruction//100)%10\n",
    "            inputnum=inputnum+1\n",
    "            # Disable blocking input for now.\n",
    "            #input_int=int(input())\n",
    "            if (inputnum == 1):\n",
    "                input_int=phase\n",
    "            elif(inputnum ==2 ):\n",
    "                input_int=inputval\n",
    "            if (assignparam == 0 ):\n",
    "                prog[prog[i+1]]=input_int\n",
    "            elif(assignparam == 1 ):\n",
    "                prog[i+1]=input_int\n",
    "            elif(assignparam == 2 ):\n",
    "                prog[prog[i+1]+rel_base]\n",
    "            i=i+2\n",
    "        elif (opcode == 4):\n",
    "        # Opcode 4 outputs the value of its only parameter. For example, the instruction 4,50 would output the value at address 50.\n",
    "            assignparam=(instruction//100)%10\n",
    "            if (assignparam == 0 ):\n",
    "                output=prog[prog[i+1]]\n",
    "            elif(assignparam == 1 ):\n",
    "                output=prog[i+1]\n",
    "            elif(assignparam == 2 ):\n",
    "                output=prog[prog[i+1]+rel_base]\n",
    "            # Disable blocking input for now.\n",
    "\n",
    "            #print(output)\n",
    "            i=i+2\n",
    "        elif (opcode == 5):\n",
    "        # Opcode 5 is jump-if-true: if the first parameter is non-zero, it sets the instruction pointer to the value from the second parameter. Otherwise, it does nothing.\n",
    "            assignparam=(instruction//100)%10\n",
    "            if (get_posorval(instruction, 3, i+1, prog) != 0 ):\n",
    "                i = get_posorval(instruction, 2, i+2, prog)\n",
    "            else:\n",
    "                i=i+3\n",
    "        elif (opcode == 6):\n",
    "        # Opcode 6 is jump-if-false: \n",
    "        # if the first parameter is zero, \n",
    "        #     it sets the instruction pointer to the value from the second parameter. \n",
    "        #     Otherwise, it does nothing.\n",
    "            assignparam=(instruction//100)%10\n",
    "            if (get_posorval(instruction, 3, i+1, prog) == 0 ):\n",
    "                i = get_posorval(instruction, 2, i+2, prog)\n",
    "            else:\n",
    "                i=i+3\n",
    "        elif (opcode == 7):\n",
    "        # Opcode 7 is less than: \n",
    "        # if the first parameter is less than the second parameter, \n",
    "        #     it stores 1 in the position given by the third parameter. \n",
    "        #     Otherwise, it stores 0.\n",
    "            if (get_posorval(instruction, 3, i+1, prog) < get_posorval(instruction, 2, i+2, prog)  ):\n",
    "                if (assignparam == 0 ):\n",
    "                    prog[prog[i+3]]=1\n",
    "                elif(assignparam == 1 ):\n",
    "                    prog[i+3]=1\n",
    "                elif(assignparam == 2 ):\n",
    "                    prog[prog[i+3]+rel_base]=1\n",
    "            else:\n",
    "                if (assignparam == 0 ):\n",
    "                    prog[prog[i+3]]=0\n",
    "                elif(assignparam == 1 ):\n",
    "                    prog[i+3]=0\n",
    "                elif(assignparam == 2 ):\n",
    "                    prog[prog[i+3]+rel_base]=0\n",
    "            i=i+4\n",
    "        elif (opcode == 8):\n",
    "        # Opcode 8 is equals: \n",
    "        # if the first parameter is equal to the second parameter, \n",
    "        #     it stores 1 in the position given by the third parameter. \n",
    "        #     Otherwise, it stores 0.\n",
    "            if (get_posorval(instruction, 3, i+1, prog) == get_posorval(instruction, 2, i+2, prog)  ):\n",
    "                if (assignparam == 0 ):\n",
    "                    prog[prog[i+3]]=1\n",
    "                elif(assignparam == 1 ):\n",
    "                    prog[i+3]=1\n",
    "                elif(assignparam == 2 ):\n",
    "                    prog[prog[i+3]+rel_base]=0\n",
    "            else:\n",
    "                if (assignparam == 0 ):\n",
    "                    prog[prog[i+3]]=0\n",
    "                elif(assignparam == 1 ):\n",
    "                    prog[i+3]=0\n",
    "                elif(assignparam == 2 ):\n",
    "                    prog[prog[i+3]+rel_base]=0\n",
    "            i=i+4\n",
    "        elif (opcode == 9):\n",
    "        #Opcode 9 adjusts the relative base by the value of its only parameter. \n",
    "        # The relative base increases (or decreases, if the value is negative) by the value of the parameter.\n",
    "            assignparam=(instruction//100)%10\n",
    "            if (assignparam == 0 ):\n",
    "                rel_base=rel_base+prog[prog[i+1]]\n",
    "            elif(assignparam == 1 ):\n",
    "                rel_base=rel_base+prog[i+1]\n",
    "            elif(assignparam == 2 ):\n",
    "                rel_base=rel_base+prog[prog[i+1]+rel_base]\n",
    "            i=i+2\n",
    "    return output"
   ]
  },
  {
   "cell_type": "code",
   "execution_count": 49,
   "metadata": {},
   "outputs": [
    {
     "data": {
      "text/plain": [
       "1125899906842624"
      ]
     },
     "execution_count": 49,
     "metadata": {},
     "output_type": "execute_result"
    }
   ],
   "source": [
    "opcode([104,1125899906842624,99],123,-999)"
   ]
  },
  {
   "cell_type": "code",
   "execution_count": 50,
   "metadata": {},
   "outputs": [],
   "source": [
    "puzinput=[1102,34463338,34463338,63,1007,63,34463338,63,1005,63,53,1101,3,0,1000,109,988,209,12,9,1000,209,6,209,3,203,0,1008,1000,1,63,1005,63,65,1008,1000,2,63,1005,63,904,1008,1000,0,63,1005,63,58,4,25,104,0,99,4,0,104,0,99,4,17,104,0,99,0,0,1101,37,0,1013,1101,426,0,1027,1101,36,0,1000,1101,0,606,1023,1102,34,1,1011,1102,1,712,1029,1102,1,27,1007,1101,831,0,1024,1102,32,1,1002,1102,1,1,1021,1101,429,0,1026,1102,1,826,1025,1101,0,717,1028,1102,1,20,1018,1101,0,24,1004,1102,31,1,1009,1101,22,0,1015,1102,38,1,1014,1102,613,1,1022,1102,29,1,1017,1102,0,1,1020,1102,1,21,1008,1102,33,1,1012,1101,0,30,1006,1101,0,28,1016,1102,1,26,1005,1102,35,1,1019,1101,25,0,1003,1102,1,23,1001,1102,1,39,1010,109,-3,2102,1,5,63,1008,63,34,63,1005,63,205,1001,64,1,64,1106,0,207,4,187,1002,64,2,64,109,-2,1201,7,0,63,1008,63,34,63,1005,63,227,1105,1,233,4,213,1001,64,1,64,1002,64,2,64,109,21,21102,40,1,3,1008,1019,37,63,1005,63,257,1001,64,1,64,1106,0,259,4,239,1002,64,2,64,109,-4,21101,41,0,2,1008,1014,38,63,1005,63,279,1105,1,285,4,265,1001,64,1,64,1002,64,2,64,109,-10,1201,4,0,63,1008,63,30,63,1005,63,307,4,291,1105,1,311,1001,64,1,64,1002,64,2,64,109,6,1207,0,22,63,1005,63,329,4,317,1105,1,333,1001,64,1,64,1002,64,2,64,109,-5,1207,5,20,63,1005,63,353,1001,64,1,64,1106,0,355,4,339,1002,64,2,64,109,8,2108,29,-5,63,1005,63,375,1001,64,1,64,1105,1,377,4,361,1002,64,2,64,109,15,1206,-6,395,4,383,1001,64,1,64,1105,1,395,1002,64,2,64,109,-11,21107,42,43,4,1005,1019,413,4,401,1106,0,417,1001,64,1,64,1002,64,2,64,109,6,2106,0,6,1105,1,435,4,423,1001,64,1,64,1002,64,2,64,109,-15,1208,-3,24,63,1005,63,455,1001,64,1,64,1105,1,457,4,441,1002,64,2,64,109,-13,1208,10,25,63,1005,63,475,4,463,1106,0,479,1001,64,1,64,1002,64,2,64,109,21,21108,43,42,3,1005,1017,495,1106,0,501,4,485,1001,64,1,64,1002,64,2,64,109,-14,2107,31,2,63,1005,63,519,4,507,1106,0,523,1001,64,1,64,1002,64,2,64,109,-4,1202,8,1,63,1008,63,24,63,1005,63,549,4,529,1001,64,1,64,1105,1,549,1002,64,2,64,109,1,2108,23,4,63,1005,63,567,4,555,1105,1,571,1001,64,1,64,1002,64,2,64,109,2,2101,0,5,63,1008,63,21,63,1005,63,591,1105,1,597,4,577,1001,64,1,64,1002,64,2,64,109,28,2105,1,-4,1001,64,1,64,1105,1,615,4,603,1002,64,2,64,109,-10,1205,4,633,4,621,1001,64,1,64,1106,0,633,1002,64,2,64,109,2,1206,2,645,1106,0,651,4,639,1001,64,1,64,1002,64,2,64,109,-4,1202,-6,1,63,1008,63,28,63,1005,63,671,1105,1,677,4,657,1001,64,1,64,1002,64,2,64,109,-9,21102,44,1,4,1008,1010,44,63,1005,63,699,4,683,1105,1,703,1001,64,1,64,1002,64,2,64,109,31,2106,0,-9,4,709,1105,1,721,1001,64,1,64,1002,64,2,64,109,-30,21108,45,45,6,1005,1013,743,4,727,1001,64,1,64,1106,0,743,1002,64,2,64,109,2,21101,46,0,3,1008,1012,46,63,1005,63,765,4,749,1106,0,769,1001,64,1,64,1002,64,2,64,109,-5,2101,0,0,63,1008,63,24,63,1005,63,795,4,775,1001,64,1,64,1105,1,795,1002,64,2,64,109,6,2107,32,-1,63,1005,63,815,1001,64,1,64,1106,0,817,4,801,1002,64,2,64,109,19,2105,1,-5,4,823,1106,0,835,1001,64,1,64,1002,64,2,64,109,-12,21107,47,46,-1,1005,1016,851,1105,1,857,4,841,1001,64,1,64,1002,64,2,64,109,-2,1205,5,873,1001,64,1,64,1105,1,875,4,863,1002,64,2,64,109,-6,2102,1,-8,63,1008,63,23,63,1005,63,897,4,881,1105,1,901,1001,64,1,64,4,64,99,21101,0,27,1,21101,0,915,0,1106,0,922,21201,1,44808,1,204,1,99,109,3,1207,-2,3,63,1005,63,964,21201,-2,-1,1,21101,942,0,0,1105,1,922,21201,1,0,-1,21201,-2,-3,1,21102,957,1,0,1105,1,922,22201,1,-1,-2,1106,0,968,21202,-2,1,-2,109,-3,2105,1,0]"
   ]
  },
  {
   "cell_type": "code",
   "execution_count": 52,
   "metadata": {},
   "outputs": [
    {
     "data": {
      "text/plain": [
       "0"
      ]
     },
     "execution_count": 52,
     "metadata": {},
     "output_type": "execute_result"
    }
   ],
   "source": [
    "opcode(puzinput)"
   ]
  },
  {
   "cell_type": "code",
   "execution_count": null,
   "metadata": {},
   "outputs": [],
   "source": []
  }
 ],
 "metadata": {
  "kernelspec": {
   "display_name": "Python 3",
   "language": "python",
   "name": "python3"
  },
  "language_info": {
   "codemirror_mode": {
    "name": "ipython",
    "version": 3
   },
   "file_extension": ".py",
   "mimetype": "text/x-python",
   "name": "python",
   "nbconvert_exporter": "python",
   "pygments_lexer": "ipython3",
   "version": "3.8.3"
  },
  "varInspector": {
   "cols": {
    "lenName": 16,
    "lenType": 16,
    "lenVar": 40
   },
   "kernels_config": {
    "python": {
     "delete_cmd_postfix": "",
     "delete_cmd_prefix": "del ",
     "library": "var_list.py",
     "varRefreshCmd": "print(var_dic_list())"
    },
    "r": {
     "delete_cmd_postfix": ") ",
     "delete_cmd_prefix": "rm(",
     "library": "var_list.r",
     "varRefreshCmd": "cat(var_dic_list()) "
    }
   },
   "types_to_exclude": [
    "module",
    "function",
    "builtin_function_or_method",
    "instance",
    "_Feature"
   ],
   "window_display": false
  }
 },
 "nbformat": 4,
 "nbformat_minor": 2
}
