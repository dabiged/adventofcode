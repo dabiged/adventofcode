{
 "cells": [
  {
   "cell_type": "markdown",
   "metadata": {},
   "source": [
    "# Day 5: Sunny with a Chance of Asteroids"
   ]
  },
  {
   "cell_type": "markdown",
   "metadata": {},
   "source": [
    "## Part 1"
   ]
  },
  {
   "cell_type": "code",
   "execution_count": 17,
   "metadata": {},
   "outputs": [],
   "source": [
    "import doctest"
   ]
  },
  {
   "cell_type": "code",
   "execution_count": 88,
   "metadata": {},
   "outputs": [],
   "source": [
    "def get_posorval(instruction, param, num, myprog):\n",
    "    '''\n",
    "    int, int, int -> int\n",
    "    \n",
    "    instruction: up to 5 char int of 3 parameter or value + 2 digit opcode.\n",
    "    param: Which of the 3 parameters we are calculating on\n",
    "    num: value in the program we are checking\n",
    "    \n",
    "    '''\n",
    "    param=param-1\n",
    "    filled_instruction=str(instruction).zfill(5)\n",
    "    if (filled_instruction[param] == \"0\" ):\n",
    "        return myprog[myprog[num]]\n",
    "    elif (filled_instruction[param] == \"1\" ):\n",
    "        return myprog[num]\n",
    "    else: \n",
    "        return None"
   ]
  },
  {
   "cell_type": "code",
   "execution_count": 140,
   "metadata": {},
   "outputs": [],
   "source": [
    "def get_opcode(x):\n",
    "    '''\n",
    "    int -> int\n",
    "    \n",
    "    Returns the opcode of an instruction\n",
    "    '''\n",
    "    return x%100"
   ]
  },
  {
   "cell_type": "code",
   "execution_count": 90,
   "metadata": {},
   "outputs": [
    {
     "ename": "SyntaxError",
     "evalue": "can't assign to function call (<ipython-input-90-9dc5edb4335c>, line 26)",
     "output_type": "error",
     "traceback": [
      "\u001b[0;36m  File \u001b[0;32m\"<ipython-input-90-9dc5edb4335c>\"\u001b[0;36m, line \u001b[0;32m26\u001b[0m\n\u001b[0;31m    prog[prog[i+3]]=get_posorval(instruction, 1, i, prog)=get_posorval(instruction, 3, i+1, prog)+get_posorval(instruction, 2, i+2, prog)\u001b[0m\n\u001b[0m                   ^\u001b[0m\n\u001b[0;31mSyntaxError\u001b[0m\u001b[0;31m:\u001b[0m can't assign to function call\n"
     ]
    }
   ],
   "source": [
    "def opcode(prog):\n",
    "    '''\n",
    "    list -> list\n",
    "    \n",
    "    A turing tape like computing device\n",
    "    \n",
    "    >>> opcode([1,0,0,0,99])\n",
    "    [2, 0, 0, 0, 99]\n",
    "    >>> opcode([2,3,0,3,99]) \n",
    "    [2, 3, 0, 6, 99]\n",
    "    >>> opcode([2,4,4,5,99,0])\n",
    "    [2, 4, 4, 5, 99, 9801]\n",
    "    >>> opcode([1,1,1,4,99,5,6,0,99])\n",
    "    [30, 1, 1, 4, 2, 5, 6, 0, 99]\n",
    "    '''\n",
    "    i=0\n",
    "    opcode='00'\n",
    "    while (opcode != 99):\n",
    "        \n",
    "        instruction=prog[i]\n",
    "        opcode=get_opcode(instruction)\n",
    "        assignparam=int(str(instruction).zfill(5)[0])\n",
    "        \n",
    "        if (opcode == 1):\n",
    "            if (assignparam == 0 ):\n",
    "                prog[prog[i+3]]=get_posorval(instruction, 1, i, prog)=get_posorval(instruction, 3, i+1, prog)+get_posorval(instruction, 2, i+2, prog)\n",
    "            elif(assignparam == 1 ):\n",
    "                prog[i+3]=get_posorval(instruction, 3, i+1, prog)+get_posorval(instruction, 2, i+2, prog)\n",
    "            i=i+4\n",
    "        elif (opcode == 2):\n",
    "            if (assignparam == 0 ):\n",
    "                prog[prog[i+3]]=get_posorval(instruction, 3, i+1, prog)*get_posorval(instruction, 2, i+2, prog)\n",
    "            elif(assignparam == 1 ):\n",
    "                prog[i+3]=get_posorval(instruction, 3, i+1, prog)*get_posorval(instruction, 2, i+2, prog)\n",
    "            i=i+4\n",
    "        elif (opcode == 3):\n",
    "            if (assignparam == 0 ):\n",
    "                prog[prog[i+1]]=int(input())\n",
    "            elif(assignparam == 1 ):\n",
    "                prog[i+1]=int(input())\n",
    "            i=i+2\n",
    "        elif (opcode == 4):\n",
    "            if (assignparam == 0 ):\n",
    "                print(prog[prog[i+1]])\n",
    "            elif(assignparam == 1 ):\n",
    "                print(prog[i+1])\n",
    "            i=i+2\n",
    "        #print (prog)\n",
    "    return prog\n",
    "    "
   ]
  },
  {
   "cell_type": "code",
   "execution_count": 134,
   "metadata": {},
   "outputs": [
    {
     "name": "stdout",
     "output_type": "stream",
     "text": [
      "5\n"
     ]
    },
    {
     "ename": "KeyboardInterrupt",
     "evalue": "",
     "output_type": "error",
     "traceback": [
      "\u001b[0;31m---------------------------------------------------------------------------\u001b[0m",
      "\u001b[0;31mKeyboardInterrupt\u001b[0m                         Traceback (most recent call last)",
      "\u001b[0;32m<ipython-input-134-487fbba2b5a1>\u001b[0m in \u001b[0;36m<module>\u001b[0;34m\u001b[0m\n\u001b[1;32m      2\u001b[0m     \u001b[0mprog\u001b[0m \u001b[0;34m=\u001b[0m \u001b[0mlist\u001b[0m\u001b[0;34m(\u001b[0m\u001b[0mmap\u001b[0m\u001b[0;34m(\u001b[0m\u001b[0;32mlambda\u001b[0m \u001b[0mx\u001b[0m\u001b[0;34m:\u001b[0m \u001b[0mint\u001b[0m\u001b[0;34m(\u001b[0m\u001b[0mx\u001b[0m\u001b[0;34m)\u001b[0m\u001b[0;34m,\u001b[0m \u001b[0mf\u001b[0m\u001b[0;34m.\u001b[0m\u001b[0mreadline\u001b[0m\u001b[0;34m(\u001b[0m\u001b[0;34m)\u001b[0m\u001b[0;34m.\u001b[0m\u001b[0msplit\u001b[0m\u001b[0;34m(\u001b[0m\u001b[0;34m\",\"\u001b[0m\u001b[0;34m)\u001b[0m\u001b[0;34m)\u001b[0m\u001b[0;34m)\u001b[0m\u001b[0;34m\u001b[0m\u001b[0;34m\u001b[0m\u001b[0m\n\u001b[1;32m      3\u001b[0m     \u001b[0;31m#print(prog)\u001b[0m\u001b[0;34m\u001b[0m\u001b[0;34m\u001b[0m\u001b[0;34m\u001b[0m\u001b[0m\n\u001b[0;32m----> 4\u001b[0;31m     \u001b[0mopcode\u001b[0m\u001b[0;34m(\u001b[0m\u001b[0mprog\u001b[0m\u001b[0;34m)\u001b[0m\u001b[0;34m\u001b[0m\u001b[0;34m\u001b[0m\u001b[0m\n\u001b[0m",
      "\u001b[0;32m<ipython-input-129-24c32a01ab86>\u001b[0m in \u001b[0;36mopcode\u001b[0;34m(prog)\u001b[0m\n\u001b[1;32m     30\u001b[0m         \u001b[0minstruction\u001b[0m\u001b[0;34m=\u001b[0m\u001b[0mprog\u001b[0m\u001b[0;34m[\u001b[0m\u001b[0mi\u001b[0m\u001b[0;34m]\u001b[0m\u001b[0;34m\u001b[0m\u001b[0;34m\u001b[0m\u001b[0m\n\u001b[1;32m     31\u001b[0m         \u001b[0massignparam\u001b[0m\u001b[0;34m=\u001b[0m\u001b[0;34m(\u001b[0m\u001b[0minstruction\u001b[0m\u001b[0;34m//\u001b[0m\u001b[0;36m100\u001b[0m\u001b[0;34m)\u001b[0m\u001b[0;34m%\u001b[0m\u001b[0;36m10\u001b[0m\u001b[0;34m\u001b[0m\u001b[0;34m\u001b[0m\u001b[0m\n\u001b[0;32m---> 32\u001b[0;31m         \u001b[0mopcode\u001b[0m\u001b[0;34m=\u001b[0m\u001b[0mget_opcode\u001b[0m\u001b[0;34m(\u001b[0m\u001b[0minstruction\u001b[0m\u001b[0;34m)\u001b[0m\u001b[0;34m\u001b[0m\u001b[0;34m\u001b[0m\u001b[0m\n\u001b[0m\u001b[1;32m     33\u001b[0m         \u001b[0;32mif\u001b[0m \u001b[0;34m(\u001b[0m\u001b[0mopcode\u001b[0m \u001b[0;34m==\u001b[0m \u001b[0;36m1\u001b[0m\u001b[0;34m)\u001b[0m\u001b[0;34m:\u001b[0m\u001b[0;34m\u001b[0m\u001b[0;34m\u001b[0m\u001b[0m\n\u001b[1;32m     34\u001b[0m             \u001b[0;32mif\u001b[0m \u001b[0;34m(\u001b[0m\u001b[0massignparam\u001b[0m \u001b[0;34m==\u001b[0m \u001b[0;36m0\u001b[0m \u001b[0;34m)\u001b[0m\u001b[0;34m:\u001b[0m\u001b[0;34m\u001b[0m\u001b[0;34m\u001b[0m\u001b[0m\n",
      "\u001b[0;32m<ipython-input-89-55ea01499458>\u001b[0m in \u001b[0;36mget_opcode\u001b[0;34m(x)\u001b[0m\n\u001b[1;32m      7\u001b[0m \u001b[0;34m\u001b[0m\u001b[0m\n\u001b[1;32m      8\u001b[0m     \u001b[0mstring\u001b[0m\u001b[0;34m=\u001b[0m\u001b[0mstr\u001b[0m\u001b[0;34m(\u001b[0m\u001b[0mx\u001b[0m\u001b[0;34m)\u001b[0m\u001b[0;34m.\u001b[0m\u001b[0mzfill\u001b[0m\u001b[0;34m(\u001b[0m\u001b[0;36m5\u001b[0m\u001b[0;34m)\u001b[0m\u001b[0;34m\u001b[0m\u001b[0;34m\u001b[0m\u001b[0m\n\u001b[0;32m----> 9\u001b[0;31m     \u001b[0;32mreturn\u001b[0m \u001b[0mint\u001b[0m\u001b[0;34m(\u001b[0m\u001b[0mstring\u001b[0m\u001b[0;34m[\u001b[0m\u001b[0;34m-\u001b[0m\u001b[0;36m2\u001b[0m\u001b[0;34m]\u001b[0m\u001b[0;34m+\u001b[0m\u001b[0mstring\u001b[0m\u001b[0;34m[\u001b[0m\u001b[0;34m-\u001b[0m\u001b[0;36m1\u001b[0m\u001b[0;34m]\u001b[0m\u001b[0;34m)\u001b[0m\u001b[0;34m\u001b[0m\u001b[0;34m\u001b[0m\u001b[0m\n\u001b[0m",
      "\u001b[0;31mKeyboardInterrupt\u001b[0m: "
     ]
    }
   ],
   "source": [
    "with open(\"Day5_input.txt\", \"r\") as f:\n",
    "    prog = list(map(lambda x: int(x), f.readline().split(\",\")))\n",
    "    #print(prog)\n",
    "    opcode(prog)"
   ]
  },
  {
   "cell_type": "markdown",
   "metadata": {},
   "source": [
    "## Part Two"
   ]
  },
  {
   "cell_type": "code",
   "execution_count": 181,
   "metadata": {
    "code_folding": [
     33,
     39,
     45,
     48,
     50,
     53,
     61,
     68,
     78,
     94
    ]
   },
   "outputs": [],
   "source": [
    "def opcode(prog):\n",
    "    '''\n",
    "    list -> list\n",
    "    \n",
    "    A turing tape like computing device\n",
    "    \n",
    "    >>> opcode([1,0,0,0,99])\n",
    "    [2, 0, 0, 0, 99]\n",
    "    >>> opcode([2,3,0,3,99]) \n",
    "    [2, 3, 0, 6, 99]\n",
    "    >>> opcode([2,4,4,5,99,0])\n",
    "    [2, 4, 4, 5, 99, 9801]\n",
    "    >>> opcode([1,1,1,4,99,5,6,0,99])\n",
    "    [30, 1, 1, 4, 2, 5, 6, 0, 99]\n",
    "    >>> opcode([4, 1, 99])\n",
    "    1\n",
    "    [4, 1, 99]\n",
    "    >>> opcode([8,1,1,5,99,-1])\n",
    "    [8, 1, 1, 5, 99, 1]\n",
    "    >>> opcode([8,1,2,5,99,-1])\n",
    "    [8, 1, 2, 5, 99, 0]\n",
    "    >>> opcode([11008,1,1,5,99,-1])\n",
    "    [11008, 1, 1, 1, 99, -1]\n",
    "    >>> opcode([11108,1,2,5,99,-1])\n",
    "    [11108, 1, 2, 0, 99, -1]\n",
    "    '''\n",
    "    i=0\n",
    "    opcode='00'\n",
    "    while (opcode != 99):\n",
    "        instruction=prog[i]\n",
    "        assignparam=int(str(instruction).zfill(5)[0])\n",
    "        opcode=get_opcode(instruction)\n",
    "        if (opcode == 1):\n",
    "            if (assignparam == 0 ):\n",
    "                prog[prog[i+3]]=get_posorval(instruction, 3, i+1, prog)+get_posorval(instruction, 2, i+2, prog)\n",
    "            elif(assignparam == 1 ):\n",
    "                prog[i+3]=get_posorval(instruction, 3, i+1, prog)+get_posorval(instruction, 2, i+2, prog)\n",
    "            i=i+4\n",
    "        elif (opcode == 2):\n",
    "            if (assignparam == 0 ):\n",
    "                prog[prog[i+3]]=get_posorval(instruction, 3, i+1, prog)*get_posorval(instruction, 2, i+2, prog)\n",
    "            elif(assignparam == 1 ):\n",
    "                prog[i+3]=get_posorval(instruction, 3, i+1, prog)*get_posorval(instruction, 2, i+2, prog)\n",
    "            i=i+4\n",
    "        elif (opcode == 3):\n",
    "        # Opcode 3 takes a single integer as input and saves it to the position given by its only parameter. For example, the instruction 3,50 would take an input value and store it at address 50.\n",
    "            assignparam=(instruction//100)%10\n",
    "            if (assignparam == 0 ):\n",
    "                prog[prog[i+1]]=int(input())\n",
    "            elif(assignparam == 1 ):\n",
    "                prog[i+1]=int(input())\n",
    "            i=i+2\n",
    "        elif (opcode == 4):\n",
    "        # Opcode 4 outputs the value of its only parameter. For example, the instruction 4,50 would output the value at address 50.\n",
    "            assignparam=(instruction//100)%10\n",
    "            if (assignparam == 0 ):\n",
    "                print(prog[prog[i+1]])\n",
    "            elif(assignparam == 1 ):\n",
    "                print(prog[i+1])\n",
    "            i=i+2\n",
    "        elif (opcode == 5):\n",
    "        # Opcode 5 is jump-if-true: if the first parameter is non-zero, it sets the instruction pointer to the value from the second parameter. Otherwise, it does nothing.\n",
    "            assignparam=(instruction//100)%10\n",
    "            if (get_posorval(instruction, 3, i+1, prog) != 0 ):\n",
    "                i = get_posorval(instruction, 2, i+2, prog)\n",
    "            else:\n",
    "                i=i+3\n",
    "        elif (opcode == 6):\n",
    "        # Opcode 6 is jump-if-false: \n",
    "        # if the first parameter is zero, \n",
    "        #     it sets the instruction pointer to the value from the second parameter. \n",
    "        #     Otherwise, it does nothing.\n",
    "            assignparam=(instruction//100)%10\n",
    "            if (get_posorval(instruction, 3, i+1, prog) == 0 ):\n",
    "                i = get_posorval(instruction, 2, i+2, prog)\n",
    "            else:\n",
    "                i=i+3\n",
    "        elif (opcode == 7):\n",
    "        # Opcode 7 is less than: \n",
    "        # if the first parameter is less than the second parameter, \n",
    "        #     it stores 1 in the position given by the third parameter. \n",
    "        #     Otherwise, it stores 0.\n",
    "            if (get_posorval(instruction, 3, i+1, prog) < get_posorval(instruction, 2, i+2, prog)  ):\n",
    "                if (assignparam == 0 ):\n",
    "                    prog[prog[i+3]]=1\n",
    "                elif(assignparam == 1 ):\n",
    "                    prog[i+3]=1\n",
    "            else:\n",
    "                if (assignparam == 0 ):\n",
    "                    prog[prog[i+3]]=0\n",
    "                elif(assignparam == 1 ):\n",
    "                    prog[i+3]=0\n",
    "            i=i+4\n",
    "        elif (opcode == 8):\n",
    "        # Opcode 8 is equals: \n",
    "        # if the first parameter is equal to the second parameter, \n",
    "        #     it stores 1 in the position given by the third parameter. \n",
    "        #     Otherwise, it stores 0.\n",
    "            if (get_posorval(instruction, 3, i+1, prog) == get_posorval(instruction, 2, i+2, prog)  ):\n",
    "                if (assignparam == 0 ):\n",
    "                    prog[prog[i+3]]=1\n",
    "                elif(assignparam == 1 ):\n",
    "                    prog[i+3]=1\n",
    "            else:\n",
    "                if (assignparam == 0 ):\n",
    "                    prog[prog[i+3]]=0\n",
    "                elif(assignparam == 1 ):\n",
    "                    prog[i+3]=0\n",
    "            i=i+4\n",
    "    return prog"
   ]
  },
  {
   "cell_type": "code",
   "execution_count": 184,
   "metadata": {},
   "outputs": [
    {
     "name": "stdout",
     "output_type": "stream",
     "text": [
      "9\n",
      "1001\n"
     ]
    },
    {
     "data": {
      "text/plain": [
       "[3,\n",
       " 21,\n",
       " 1008,\n",
       " 21,\n",
       " 8,\n",
       " 20,\n",
       " 1005,\n",
       " 20,\n",
       " 22,\n",
       " 107,\n",
       " 8,\n",
       " 21,\n",
       " 20,\n",
       " 1006,\n",
       " 20,\n",
       " 31,\n",
       " 1106,\n",
       " 0,\n",
       " 36,\n",
       " 98,\n",
       " 1001,\n",
       " 9,\n",
       " 1002,\n",
       " 21,\n",
       " 125,\n",
       " 20,\n",
       " 4,\n",
       " 20,\n",
       " 1105,\n",
       " 1,\n",
       " 46,\n",
       " 104,\n",
       " 999,\n",
       " 1105,\n",
       " 1,\n",
       " 46,\n",
       " 1101,\n",
       " 1000,\n",
       " 1,\n",
       " 20,\n",
       " 4,\n",
       " 20,\n",
       " 1105,\n",
       " 1,\n",
       " 46,\n",
       " 98,\n",
       " 99]"
      ]
     },
     "execution_count": 184,
     "metadata": {},
     "output_type": "execute_result"
    }
   ],
   "source": [
    "\n",
    "opcode([3,21,1008,21,8,20,1005,20,22,107,8,21,20,1006,20,31,1106,0,36,98,0,0,1002,21,125,20,4,20,1105,1,46,104,999,1105,1,46,1101,1000,1,20,4,20,1105,1,46,98,99])\n"
   ]
  },
  {
   "cell_type": "code",
   "execution_count": 42,
   "metadata": {},
   "outputs": [
    {
     "data": {
      "text/plain": [
       "TestResults(failed=0, attempted=9)"
      ]
     },
     "execution_count": 42,
     "metadata": {},
     "output_type": "execute_result"
    }
   ],
   "source": [
    "doctest.testmod()"
   ]
  },
  {
   "cell_type": "code",
   "execution_count": 185,
   "metadata": {},
   "outputs": [
    {
     "name": "stdout",
     "output_type": "stream",
     "text": [
      "5\n",
      "8805067\n"
     ]
    }
   ],
   "source": [
    "with open(\"Day5_input.txt\", \"r\") as f:\n",
    "    prog = list(map(lambda x: int(x), f.readline().split(\",\")))\n",
    "    #print(prog)\n",
    "    opcode(prog)"
   ]
  },
  {
   "cell_type": "code",
   "execution_count": null,
   "metadata": {},
   "outputs": [],
   "source": []
  }
 ],
 "metadata": {
  "kernelspec": {
   "display_name": "Python 3",
   "language": "python",
   "name": "python3"
  },
  "language_info": {
   "codemirror_mode": {
    "name": "ipython",
    "version": 3
   },
   "file_extension": ".py",
   "mimetype": "text/x-python",
   "name": "python",
   "nbconvert_exporter": "python",
   "pygments_lexer": "ipython3",
   "version": "3.8.3"
  },
  "varInspector": {
   "cols": {
    "lenName": 16,
    "lenType": 16,
    "lenVar": 40
   },
   "kernels_config": {
    "python": {
     "delete_cmd_postfix": "",
     "delete_cmd_prefix": "del ",
     "library": "var_list.py",
     "varRefreshCmd": "print(var_dic_list())"
    },
    "r": {
     "delete_cmd_postfix": ") ",
     "delete_cmd_prefix": "rm(",
     "library": "var_list.r",
     "varRefreshCmd": "cat(var_dic_list()) "
    }
   },
   "types_to_exclude": [
    "module",
    "function",
    "builtin_function_or_method",
    "instance",
    "_Feature"
   ],
   "window_display": false
  }
 },
 "nbformat": 4,
 "nbformat_minor": 2
}
