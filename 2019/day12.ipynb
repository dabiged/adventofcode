{
 "cells": [
  {
   "cell_type": "markdown",
   "metadata": {},
   "source": [
    "# Day 12: The N-Body Problem"
   ]
  },
  {
   "cell_type": "markdown",
   "metadata": {},
   "source": [
    "## Part 1"
   ]
  },
  {
   "cell_type": "code",
   "execution_count": 1,
   "metadata": {},
   "outputs": [],
   "source": [
    "import numpy as np\n",
    "import doctest"
   ]
  },
  {
   "cell_type": "code",
   "execution_count": 2,
   "metadata": {},
   "outputs": [],
   "source": [
    "def init_all(input_str):\n",
    "    '''\n",
    "    str -> np.array\n",
    "    \n",
    "    read input positions and create a position velocity array\n",
    "    \n",
    "    \n",
    "    '''\n",
    "    posvel=np.zeros([2,4,3])\n",
    "    planet=0\n",
    "    for line in input_str.split(\"\\n\"):\n",
    "        coord=0\n",
    "        line=line.replace(\"<\",\"\").replace(\">\",\"\").replace(\" \",\"\")\n",
    "        for val in line.split(\",\"):\n",
    "            posvel[0,planet,coord]=val[2:]\n",
    "            coord+=1\n",
    "        planet+=1\n",
    "\n",
    "    return posvel"
   ]
  },
  {
   "cell_type": "code",
   "execution_count": 3,
   "metadata": {},
   "outputs": [],
   "source": [
    "def update_vel(x):\n",
    "    '''\n",
    "    nparray -> nparray\n",
    "    \n",
    "    On each axis (x, y, and z), the velocity of each moon changes by exactly +1 or -1 to pull the moons together. \n",
    "    For example, if Ganymede has an x position of 3, and Callisto has a x position of 5, \n",
    "    then Ganymede's x velocity changes by +1 (because 5 > 3) and Callisto's x velocity changes by -1 (because 3 < 5).\n",
    "    However, if the positions on a given axis are the same, the velocity on that axis does not change for that \n",
    "    pair of moons.\n",
    "    '''\n",
    "    for this_planet in range(np.size(x,1)):\n",
    "        for planet in range(np.size(x,1)):\n",
    "            if (planet == this_planet):\n",
    "                planet+=1\n",
    "                continue\n",
    "            for coord in range(np.size(x,2)):\n",
    "                if   (x[0,this_planet,coord] < x[0,planet,coord]):\n",
    "                    x[1,this_planet,coord]+=1\n",
    "                elif (x[0,this_planet,coord] > x[0,planet,coord]):\n",
    "                    x[1,this_planet,coord]-=1\n",
    "                coord+=1\n",
    "            planet+=1\n",
    "        this_planet+=1"
   ]
  },
  {
   "cell_type": "code",
   "execution_count": 4,
   "metadata": {},
   "outputs": [],
   "source": [
    "def update_pos(x):\n",
    "    '''\n",
    "    nparray -> nparray\n",
    "    \n",
    "    Once all gravity has been applied, apply velocity: simply add the velocity of each moon to its own position. \n",
    "    For example, if Europa has a position of x=1, y=2, z=3 and a velocity of x=-2, y=0,z=3, \n",
    "    then its new position would be x=-1, y=2, z=6. \n",
    "    This process does not modify the velocity of any moon.\n",
    "    \n",
    "    '''\n",
    "    for this_planet in range(np.size(x,1)):\n",
    "        for coord in range(np.size(x,2)):\n",
    "            x[0,this_planet,coord] = x[0,this_planet,coord] + x[1,this_planet,coord]"
   ]
  },
  {
   "cell_type": "code",
   "execution_count": 5,
   "metadata": {},
   "outputs": [],
   "source": [
    "def calc_energy(input):\n",
    "    '''\n",
    "    np.array -> int\n",
    "    \n",
    "    Then, it might help to calculate the total energy in the system. \n",
    "    The total energy for a single moon is its potential energy multiplied by its kinetic energy. \n",
    "    A moon's potential energy is the sum of the absolute values of its x, y, and z position coordinates. \n",
    "    A moon's kinetic energy is the sum of the absolute values of its velocity coordinates. \n",
    "    '''\n",
    "    energy=0\n",
    "    for planet in range(np.size(input,1)):\n",
    "        energy+=np.sum(np.absolute(input[1,planet,:]))*np.sum(np.absolute(input[0,planet,:]))\n",
    "    return energy"
   ]
  },
  {
   "cell_type": "code",
   "execution_count": 6,
   "metadata": {},
   "outputs": [],
   "source": [
    "def simulate(numsteps, inputstr):\n",
    "    '''\n",
    "    int, str -> dict \n",
    "    \n",
    "    int=num steps to simulate\n",
    "    str= starting positions of planets\n",
    "    dict keys= time steps\n",
    "    dict values = total energy per step\n",
    "    '''\n",
    "    myposvel=init_all(inputstr)\n",
    "    dict_posvel={}\n",
    "    dict_energy={}\n",
    "    for i in range(0,numsteps+1):\n",
    "        prevposvel=myposvel.copy()\n",
    "        dict_posvel[i]=prevposvel\n",
    "        update_vel(myposvel)\n",
    "        update_pos(myposvel)\n",
    "        dict_energy[i]=calc_energy(dict_posvel[i])\n",
    "    return dict_energy,dict_posvel"
   ]
  },
  {
   "cell_type": "code",
   "execution_count": 7,
   "metadata": {},
   "outputs": [
    {
     "data": {
      "text/plain": [
       "179.0"
      ]
     },
     "execution_count": 7,
     "metadata": {},
     "output_type": "execute_result"
    }
   ],
   "source": [
    "input='''<x=-1, y=0, z=2>\n",
    "<x=2, y=-10, z=-7>\n",
    "<x=4, y=-8, z=8>\n",
    "<x=3, y=5, z=-1>'''\n",
    "\n",
    "(a_energy, a_posvel) = simulate(10,input)\n",
    "a_energy[10]"
   ]
  },
  {
   "cell_type": "code",
   "execution_count": 19,
   "metadata": {},
   "outputs": [
    {
     "data": {
      "text/plain": [
       "1940.0"
      ]
     },
     "execution_count": 19,
     "metadata": {},
     "output_type": "execute_result"
    }
   ],
   "source": [
    "secinput='''<x=-8, y=-10, z=0>\n",
    "<x=5, y=5, z=10>\n",
    "<x=2, y=-7, z=3>\n",
    "<x=9, y=-8, z=-3>'''\n",
    "b,c=simulate(10000,secinput)\n",
    "b[100]"
   ]
  },
  {
   "cell_type": "code",
   "execution_count": 16,
   "metadata": {},
   "outputs": [],
   "source": [
    "puzinput='''<x=-6, y=-5, z=-8>\n",
    "<x=0, y=-3, z=-13>\n",
    "<x=-15, y=10, z=-11>\n",
    "<x=-3, y=-8, z=3>'''\n",
    "d,e=simulate(1000000,puzinput)"
   ]
  },
  {
   "cell_type": "code",
   "execution_count": 13,
   "metadata": {},
   "outputs": [
    {
     "data": {
      "text/plain": [
       "array([[-3., -8.,  3.],\n",
       "       [ 0.,  0.,  0.]])"
      ]
     },
     "execution_count": 13,
     "metadata": {},
     "output_type": "execute_result"
    }
   ],
   "source": [
    "e[0][:,3,:]"
   ]
  },
  {
   "cell_type": "code",
   "execution_count": 31,
   "metadata": {},
   "outputs": [
    {
     "data": {
      "text/plain": [
       "array([[0., 0., 0.],\n",
       "       [0., 0., 0.],\n",
       "       [0., 0., 0.],\n",
       "       [0., 0., 0.]])"
      ]
     },
     "execution_count": 31,
     "metadata": {},
     "output_type": "execute_result"
    }
   ],
   "source": [
    "np.zeros([4,3])"
   ]
  },
  {
   "cell_type": "code",
   "execution_count": 23,
   "metadata": {
    "code_folding": []
   },
   "outputs": [
    {
     "name": "stdout",
     "output_type": "stream",
     "text": [
      "0 0\n",
      "1 0\n",
      "2 0\n",
      "3 0\n"
     ]
    }
   ],
   "source": [
    "for i in range(len(c)):\n",
    "    #if e[i][1,:,:] == np.zeros([4,3]):\n",
    "    for planet in range(4):\n",
    "        if (np.all(c[i][:,planet,:] == c[0][:,planet,:])):\n",
    "            print(planet, i)"
   ]
  },
  {
   "cell_type": "code",
   "execution_count": 29,
   "metadata": {},
   "outputs": [
    {
     "data": {
      "text/plain": [
       "array([[ -6., -64.,  43.],\n",
       "       [ 11.,  -8.,  14.]])"
      ]
     },
     "execution_count": 29,
     "metadata": {},
     "output_type": "execute_result"
    }
   ],
   "source": [
    "c[630][:,planet,:]"
   ]
  },
  {
   "cell_type": "code",
   "execution_count": 60,
   "metadata": {},
   "outputs": [
    {
     "data": {
      "text/plain": [
       "array([[0., 0., 0.]])"
      ]
     },
     "execution_count": 60,
     "metadata": {},
     "output_type": "execute_result"
    }
   ],
   "source": [
    "np.zeros([1,3])"
   ]
  },
  {
   "cell_type": "code",
   "execution_count": 15,
   "metadata": {},
   "outputs": [],
   "source": [
    "np.lcm.reduce?"
   ]
  },
  {
   "cell_type": "code",
   "execution_count": null,
   "metadata": {},
   "outputs": [],
   "source": []
  }
 ],
 "metadata": {
  "kernelspec": {
   "display_name": "Python 3",
   "language": "python",
   "name": "python3"
  },
  "language_info": {
   "codemirror_mode": {
    "name": "ipython",
    "version": 3
   },
   "file_extension": ".py",
   "mimetype": "text/x-python",
   "name": "python",
   "nbconvert_exporter": "python",
   "pygments_lexer": "ipython3",
   "version": "3.8.3"
  },
  "varInspector": {
   "cols": {
    "lenName": 16,
    "lenType": 16,
    "lenVar": 40
   },
   "kernels_config": {
    "python": {
     "delete_cmd_postfix": "",
     "delete_cmd_prefix": "del ",
     "library": "var_list.py",
     "varRefreshCmd": "print(var_dic_list())"
    },
    "r": {
     "delete_cmd_postfix": ") ",
     "delete_cmd_prefix": "rm(",
     "library": "var_list.r",
     "varRefreshCmd": "cat(var_dic_list()) "
    }
   },
   "types_to_exclude": [
    "module",
    "function",
    "builtin_function_or_method",
    "instance",
    "_Feature"
   ],
   "window_display": false
  }
 },
 "nbformat": 4,
 "nbformat_minor": 2
}
