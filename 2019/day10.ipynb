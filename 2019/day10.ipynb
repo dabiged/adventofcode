{
 "cells": [
  {
   "cell_type": "markdown",
   "metadata": {},
   "source": [
    "# Day 10: Monitoring Station "
   ]
  },
  {
   "cell_type": "markdown",
   "metadata": {},
   "source": [
    "## Part 1"
   ]
  },
  {
   "cell_type": "markdown",
   "metadata": {},
   "source": [
    "### working area"
   ]
  },
  {
   "cell_type": "code",
   "execution_count": 40,
   "metadata": {},
   "outputs": [],
   "source": [
    "import numpy as np\n",
    "import math"
   ]
  },
  {
   "cell_type": "code",
   "execution_count": 9,
   "metadata": {},
   "outputs": [],
   "source": [
    "inp='''.#..#\n",
    ".....\n",
    "#####\n",
    "....#\n",
    "...##\n",
    "'''"
   ]
  },
  {
   "cell_type": "code",
   "execution_count": 23,
   "metadata": {
    "code_folding": [
     0
    ]
   },
   "outputs": [],
   "source": [
    "def get_size (inputstr):\n",
    "    '''\n",
    "    str -> int,int\n",
    "    \n",
    "    prints the dimensions of a string if it was an array\n",
    "    \n",
    "    >>> get_size('111\\n222\\n333\\n')\n",
    "    (3, 3)  \n",
    "    >>> get_size('111\\n222\\n333\\n444\\n555\\n')\n",
    "    (5, 3) \n",
    "    '''\n",
    "    newline_count=0\n",
    "    \n",
    "    for i in inputstr:\n",
    "        if (i == '\\n'):\n",
    "            newline_count+=1\n",
    "    return newline_count, (len(inputstr)//newline_count)-1"
   ]
  },
  {
   "cell_type": "code",
   "execution_count": 24,
   "metadata": {},
   "outputs": [
    {
     "data": {
      "text/plain": [
       "(5, 5)"
      ]
     },
     "execution_count": 24,
     "metadata": {},
     "output_type": "execute_result"
    }
   ],
   "source": [
    "get_size(inp)"
   ]
  },
  {
   "cell_type": "code",
   "execution_count": 25,
   "metadata": {},
   "outputs": [
    {
     "data": {
      "text/plain": [
       "(3, 3)"
      ]
     },
     "execution_count": 25,
     "metadata": {},
     "output_type": "execute_result"
    }
   ],
   "source": [
    "get_size('111\\n222\\n333\\n')"
   ]
  },
  {
   "cell_type": "code",
   "execution_count": 26,
   "metadata": {},
   "outputs": [
    {
     "data": {
      "text/plain": [
       "(5, 3)"
      ]
     },
     "execution_count": 26,
     "metadata": {},
     "output_type": "execute_result"
    }
   ],
   "source": [
    "get_size('111\\n222\\n333\\n444\\n555\\n')"
   ]
  },
  {
   "cell_type": "code",
   "execution_count": 37,
   "metadata": {
    "code_folding": [
     0
    ]
   },
   "outputs": [],
   "source": [
    "def build_field(input_string):\n",
    "    '''\n",
    "    str - > np.array\n",
    "    \n",
    "    converts input_stringut string to numpy array representing the asteroid field.\n",
    "    \n",
    "    \n",
    "    \n",
    "    \n",
    "    '''\n",
    "    field=np.zeros(get_size(input_string),dtype=str)\n",
    "    count=0\n",
    "    row=0\n",
    "    col=0\n",
    "    for i in input_string:\n",
    "        if (i =='\\n'):\n",
    "            row=row+1\n",
    "            col=0\n",
    "            continue\n",
    "        field[row,col]=str(i)\n",
    "        col=col+1\n",
    "        count=count+1\n",
    "    return field    "
   ]
  },
  {
   "cell_type": "code",
   "execution_count": 92,
   "metadata": {
    "code_folding": []
   },
   "outputs": [],
   "source": [
    "def get_ang(start_row,start_col,dest_row,dest_col):\n",
    "    '''\n",
    "    int,int,int,int - > float\n",
    "    \n",
    "    gets angle betwee row,col and row,col\n",
    "    \n",
    "    >>> get_ang(0,0,2,2)\n",
    "    -45.0\n",
    "    >>> get_ang(2,2,0,0)\n",
    "    45.0\n",
    "    '''\n",
    "    return -math.atan2(dest_col-start_col,dest_row-start_row)/math.pi*180"
   ]
  },
  {
   "cell_type": "code",
   "execution_count": 91,
   "metadata": {},
   "outputs": [
    {
     "data": {
      "text/plain": [
       "-45.0"
      ]
     },
     "execution_count": 91,
     "metadata": {},
     "output_type": "execute_result"
    }
   ],
   "source": [
    "get_ang(0,0,2,2)"
   ]
  },
  {
   "cell_type": "code",
   "execution_count": 129,
   "metadata": {
    "code_folding": []
   },
   "outputs": [],
   "source": [
    "def find_best_station_loc(inp):\n",
    "    '''\n",
    "    string -> tuple\n",
    "    \n",
    "    find the lcoation in the input string that is optimal to locate a station\n",
    "    \n",
    "    \n",
    "    '''\n",
    "    # convert the input string into a numpy array.\n",
    "    ast_field=build_field(inp)\n",
    "    # initialise a debug library (key=row,col, value=(angle,row,col) tuple of each asteroid visible)\n",
    "    all_ast_seen={}\n",
    "    # initialise a counting library (key=row,col, value= Num asteroids visible)\n",
    "    ast_seen={}\n",
    "    # loop over all asteroids\n",
    "    for stat_row in range(np.size(ast_field,0)):\n",
    "        for stat_col in range(np.size(ast_field,1)):\n",
    "            # initialise some collectors\n",
    "            this_stat=[]\n",
    "            this_stat_debug=[]\n",
    "            # if the current station location is empty space, we cannot locate a base there, so skip it.\n",
    "            if ( ast_field[stat_row,stat_col] == '.'):\n",
    "                # if the curre\n",
    "                all_ast_seen[(stat_row,stat_col)]=this_stat_debug\n",
    "                ast_seen[(stat_row,stat_col)]=len(this_stat)\n",
    "                continue\n",
    "            # loop over all locations in space\n",
    "            for ast_row in range(np.size(ast_field,0)):\n",
    "                for ast_col in range(np.size(ast_field,1)):\n",
    "                    # if the location is empty space, or the current base location, skip it.\n",
    "                    if (ast_field[ast_row,ast_col]=='.' or (stat_row == ast_row and stat_col == ast_col)):\n",
    "                        #print (\"found empty space at\",ast_row, ast_col)\n",
    "                        continue\n",
    "                    if (get_ang(stat_row,stat_col,ast_row,ast_col) not in this_stat):\n",
    "                        # Otherwise add the asteroid location to the dict if it hasn't been seen yet.\n",
    "                        this_stat.append(get_ang(stat_row,stat_col,ast_row,ast_col))\n",
    "                        this_stat_debug.append((get_ang(stat_row,stat_col,ast_row,ast_col),ast_row,ast_col))\n",
    "            all_ast_seen[(stat_row,stat_col)]=this_stat_debug\n",
    "            # write the total number of asteroids visible to the dict.\n",
    "            ast_seen[(stat_row,stat_col)]=len(this_stat)\n",
    "    # return the key that contains the most visible asteroids.\n",
    "    return max(ast_seen, key=ast_seen.get), ast_seen[max(ast_seen, key=ast_seen.get)]\n"
   ]
  },
  {
   "cell_type": "code",
   "execution_count": 130,
   "metadata": {},
   "outputs": [
    {
     "data": {
      "text/plain": [
       "((4, 3), 8)"
      ]
     },
     "execution_count": 130,
     "metadata": {},
     "output_type": "execute_result"
    }
   ],
   "source": [
    "find_best_station_loc(inp)"
   ]
  },
  {
   "cell_type": "code",
   "execution_count": 127,
   "metadata": {},
   "outputs": [],
   "source": [
    "newinp='''......#.#.\n",
    "#..#.#....\n",
    "..#######.\n",
    ".#.#.###..\n",
    ".#..#.....\n",
    "..#....#.#\n",
    "#..#....#.\n",
    ".##.#..###\n",
    "##...#..#.\n",
    ".#....####\n",
    "'''"
   ]
  },
  {
   "cell_type": "code",
   "execution_count": 131,
   "metadata": {},
   "outputs": [
    {
     "data": {
      "text/plain": [
       "((8, 5), 33)"
      ]
     },
     "execution_count": 131,
     "metadata": {},
     "output_type": "execute_result"
    }
   ],
   "source": [
    "find_best_station_loc(newinp)"
   ]
  },
  {
   "cell_type": "code",
   "execution_count": 126,
   "metadata": {},
   "outputs": [
    {
     "data": {
      "text/plain": [
       "(11, 9)"
      ]
     },
     "execution_count": 126,
     "metadata": {},
     "output_type": "execute_result"
    }
   ],
   "source": [
    "get_size(newinp)"
   ]
  },
  {
   "cell_type": "code",
   "execution_count": 134,
   "metadata": {},
   "outputs": [],
   "source": [
    "biginp='''.#..##.###...#######\n",
    "##.############..##.\n",
    ".#.######.########.#\n",
    ".###.#######.####.#.\n",
    "#####.##.#.##.###.##\n",
    "..#####..#.#########\n",
    "####################\n",
    "#.####....###.#.#.##\n",
    "##.#################\n",
    "#####.##.###..####..\n",
    "..######..##.#######\n",
    "####.##.####...##..#\n",
    ".#####..#.######.###\n",
    "##...#.##########...\n",
    "#.##########.#######\n",
    ".####.#.###.###.#.##\n",
    "....##.##.###..#####\n",
    ".#.#.###########.###\n",
    "#.#.#.#####.####.###\n",
    "###.##.####.##.#..##\n",
    "'''"
   ]
  },
  {
   "cell_type": "code",
   "execution_count": 135,
   "metadata": {},
   "outputs": [
    {
     "data": {
      "text/plain": [
       "((13, 11), 210)"
      ]
     },
     "execution_count": 135,
     "metadata": {},
     "output_type": "execute_result"
    }
   ],
   "source": [
    "find_best_station_loc(biginp)"
   ]
  },
  {
   "cell_type": "code",
   "execution_count": 136,
   "metadata": {},
   "outputs": [],
   "source": [
    "puzinp='''.#......#...#.....#..#......#..##..#\n",
    "..#.......#..........#..##.##.......\n",
    "##......#.#..#..#..##...#.##.###....\n",
    "..#........#...........#.......##...\n",
    ".##.....#.......#........#..#.#.....\n",
    ".#...#...#.....#.##.......#...#....#\n",
    "#...#..##....#....#......#..........\n",
    "....#......#.#.....#..#...#......#..\n",
    "......###.......#..........#.##.#...\n",
    "#......#..#.....#..#......#..#..####\n",
    ".##...##......##..#####.......##....\n",
    ".....#...#.........#........#....#..\n",
    "....##.....#...#........#.##..#....#\n",
    "....#........#.###.#........#...#..#\n",
    "....#..#.#.##....#.........#.....#.#\n",
    "##....###....##..#..#........#......\n",
    ".....#.#.........#.......#....#....#\n",
    ".###.....#....#.#......#...##.##....\n",
    "...##...##....##.........#...#......\n",
    ".....#....##....#..#.#.#...##.#...#.\n",
    "#...#.#.#.#..##.#...#..#..#..#......\n",
    "......#...#...#.#.....#.#.....#.####\n",
    "..........#..................#.#.##.\n",
    "....#....#....#...#..#....#.....#...\n",
    ".#####..####........#...............\n",
    "#....#.#..#..#....##......#...#.....\n",
    "...####....#..#......#.#...##.....#.\n",
    "..##....#.###.##.#.##.#.....#......#\n",
    "....#.####...#......###.....##......\n",
    ".#.....#....#......#..#..#.#..#.....\n",
    "..#.......#...#........#.##...#.....\n",
    "#.....####.#..........#.#.......#...\n",
    "..##..#..#.....#.#.........#..#.#.##\n",
    ".........#..........##.#.##.......##\n",
    "#..#.....#....#....#.#.......####..#\n",
    "..............#.#...........##.#.#..\n",
    "'''"
   ]
  },
  {
   "cell_type": "code",
   "execution_count": 137,
   "metadata": {},
   "outputs": [
    {
     "data": {
      "text/plain": [
       "((19, 23), 278)"
      ]
     },
     "execution_count": 137,
     "metadata": {},
     "output_type": "execute_result"
    }
   ],
   "source": [
    "find_best_station_loc(puzinp)"
   ]
  },
  {
   "cell_type": "markdown",
   "metadata": {},
   "source": [
    "## Part 2"
   ]
  },
  {
   "cell_type": "code",
   "execution_count": 223,
   "metadata": {
    "code_folding": [
     0
    ]
   },
   "outputs": [],
   "source": [
    "def get_new_ang(start_row,start_col,dest_row,dest_col):\n",
    "    '''\n",
    "    int,int,int,int -> float\n",
    "    \n",
    "    calculate the angle between two locations in an array.\n",
    "    \n",
    "     01234567890\n",
    "    0....#......\n",
    "    1...........\n",
    "    2....#......\n",
    "    3...........\n",
    "    4...........\n",
    "    '''\n",
    "    return (90+math.atan2(dest_row-start_row,dest_col-start_col)/math.pi*180) % 360"
   ]
  },
  {
   "cell_type": "code",
   "execution_count": 268,
   "metadata": {
    "code_folding": [
     0
    ]
   },
   "outputs": [],
   "source": [
    "def distance(start_row,start_col,dest_row,dest_col):\n",
    "    '''\n",
    "    int,int,int,int -> float\n",
    "    \n",
    "    returns the pythagorean distance between two points\n",
    "    '''\n",
    "    return math.sqrt((start_row-dest_row)**2+(start_col-dest_col)**2)"
   ]
  },
  {
   "cell_type": "code",
   "execution_count": 218,
   "metadata": {},
   "outputs": [],
   "source": [
    "inp='''.#....#####...#..\n",
    "##...##.#####..##\n",
    "##...#...#.#####.\n",
    "..#.....X...###..\n",
    "..#.#.....#....##\n",
    "'''\n",
    "stat_row=3\n",
    "stat_col=8"
   ]
  },
  {
   "cell_type": "code",
   "execution_count": 272,
   "metadata": {
    "code_folding": []
   },
   "outputs": [],
   "source": [
    "def get_seq_vis_ast(inp,stat_row,stat_col):\n",
    "    '''\n",
    "    create an ordered list of which asteroids will be nuked next\n",
    "    \n",
    "    \n",
    "    '''\n",
    "    # initialise a debug library (key=row,col, value=(angle,row,col) tuple of each asteroid visible)\n",
    "    all_ast_seen={}\n",
    "    # initialise some collectors\n",
    "    this_stat_debug=[]\n",
    "    # loop over all locations in space\n",
    "    for ast_row in range(np.size(ast_field,0)):\n",
    "        for ast_col in range(np.size(ast_field,1)):\n",
    "            # if the location is empty space, or the current base location, skip it.\n",
    "            if (ast_field[ast_row,ast_col]=='.' or (stat_row == ast_row and stat_col == ast_col)):\n",
    "                #print (\"found empty space at\",ast_row, ast_col)\n",
    "                continue\n",
    "            this_stat_debug.append((get_new_ang(stat_row,stat_col,ast_row,ast_col),\n",
    "                                    distance(stat_row,stat_col,ast_row,ast_col),\n",
    "                                    ast_row,\n",
    "                                    ast_col))\n",
    "    all_ast_seen[(stat_row,stat_col)]=this_stat_debug\n",
    "    sorted(this_stat_debug, key=lambda x: x[0])\n",
    "    # write the total number of asteroids visible to the dict.\n",
    "    laser_list={}\n",
    "    for (ang,dist,row,col) in sorted(this_stat_debug, key=lambda x: x[1]):\n",
    "        if ((ang) not in laser_list.keys()):\n",
    "            laser_list[(ang)]=(row,col)\n",
    "    list_of_shots=[]\n",
    "    for i in sorted(laser_list):\n",
    "        list_of_shots.append(laser_list[(i)])\n",
    "    return list_of_shots\n"
   ]
  },
  {
   "cell_type": "code",
   "execution_count": 313,
   "metadata": {},
   "outputs": [
    {
     "name": "stdout",
     "output_type": "stream",
     "text": [
      "1 (11, 12)\n",
      "2 (12, 1)\n",
      "3 (12, 2)\n",
      "10 (12, 8)\n",
      "20 (16, 0)\n",
      "50 (16, 9)\n",
      "100 (10, 16)\n",
      "199 (9, 6)\n",
      "200 (8, 2)\n",
      "201 (10, 9)\n",
      "299 (11, 1)\n"
     ]
    }
   ],
   "source": [
    "ast_field=build_field(biginp)\n",
    "count=0\n",
    "ast_shot={}\n",
    "while (np.count_nonzero(ast_field==\"#\")>1):\n",
    "    for (row,col) in get_seq_vis_ast(ast_field,13,11):\n",
    "        count+=1\n",
    "        ast_field[row,col]='.'\n",
    "        ast_shot[count]=(col,row)\n",
    "        \n",
    "for i in [1,2,3,10,20,50,100,199,200,201,299]:\n",
    "    print(i, ast_shot[i])"
   ]
  },
  {
   "cell_type": "code",
   "execution_count": 298,
   "metadata": {},
   "outputs": [
    {
     "data": {
      "text/plain": [
       "1"
      ]
     },
     "execution_count": 298,
     "metadata": {},
     "output_type": "execute_result"
    }
   ],
   "source": [
    "np.count_nonzero(ast_field==\"#\")"
   ]
  },
  {
   "cell_type": "code",
   "execution_count": 310,
   "metadata": {},
   "outputs": [
    {
     "name": "stdout",
     "output_type": "stream",
     "text": [
      "(14, 17)\n"
     ]
    }
   ],
   "source": [
    "ast_field=build_field(puzinp)\n",
    "count=0\n",
    "ast_shot={}\n",
    "\n",
    "while (np.count_nonzero(ast_field==\"#\")>1):\n",
    "    for (row,col) in get_seq_vis_ast(ast_field,19,23):\n",
    "        count+=1\n",
    "        ast_field[row,col]='.'\n",
    "        ast_shot[count]=(col,row)\n",
    "print(ast_shot[200])"
   ]
  }
 ],
 "metadata": {
  "kernelspec": {
   "display_name": "Python 3",
   "language": "python",
   "name": "python3"
  },
  "language_info": {
   "codemirror_mode": {
    "name": "ipython",
    "version": 3
   },
   "file_extension": ".py",
   "mimetype": "text/x-python",
   "name": "python",
   "nbconvert_exporter": "python",
   "pygments_lexer": "ipython3",
   "version": "3.8.3"
  },
  "varInspector": {
   "cols": {
    "lenName": 16,
    "lenType": 16,
    "lenVar": 40
   },
   "kernels_config": {
    "python": {
     "delete_cmd_postfix": "",
     "delete_cmd_prefix": "del ",
     "library": "var_list.py",
     "varRefreshCmd": "print(var_dic_list())"
    },
    "r": {
     "delete_cmd_postfix": ") ",
     "delete_cmd_prefix": "rm(",
     "library": "var_list.r",
     "varRefreshCmd": "cat(var_dic_list()) "
    }
   },
   "types_to_exclude": [
    "module",
    "function",
    "builtin_function_or_method",
    "instance",
    "_Feature"
   ],
   "window_display": false
  }
 },
 "nbformat": 4,
 "nbformat_minor": 2
}
